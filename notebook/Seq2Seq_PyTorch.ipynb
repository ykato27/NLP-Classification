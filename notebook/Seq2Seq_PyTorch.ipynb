{
 "cells": [
  {
   "cell_type": "markdown",
   "metadata": {},
   "source": [
    "#### Seq2Seqとは\n",
    "Seq2Seq(sequence to sequence)は、以下で説明するEncoderとDecoderを備えたEncoder-Decoderモデルを使って、系列データを別の系列データに変換するモデルのこと"
   ]
  },
  {
   "cell_type": "markdown",
   "metadata": {},
   "source": [
    "#### Encoderとは\n",
    "InputData(画像、テキスト、音声、動画etc)を何かしらの(固定長)特徴ベクトルに変換する機構のことを言います。\n",
    "そのまんまですが、InputDataを抽象的なベクトルにエンコードしてるイメージ。"
   ]
  },
  {
   "cell_type": "markdown",
   "metadata": {},
   "source": [
    "#### Decoderとは\n",
    "Encoderでエンコードされた特徴ベクトルをデコードして何か新しいデータを生む機構のことをいいます。\n",
    "OutputDataはInputDataと同じデータ形式である必要はなく、画像、テキスト、音声いろいろ"
   ]
  },
  {
   "cell_type": "markdown",
   "metadata": {},
   "source": [
    "#### Encoder-Decoderモデルとは\n",
    "EncoderとDecoderをつなげると、Encoder-Decoderモデルの完成\n",
    "Encoder-Decoderモデルはいわゆる生成系のモデルであり、画像をテキストにしたり、音声からテキストを生成したり、日本語から英語（テキストから別のテキスト）に変換したりと用途は様々。\n",
    "今回はこのSeq2Seqを使って系列データを別の系列データに変換するモデルを実装を通して解説"
   ]
  },
  {
   "cell_type": "markdown",
   "metadata": {},
   "source": [
    "#### データの準備\n",
    "引き算データセットの準備はどこかから入手する必要もなく、自前で準備すればOK。"
   ]
  },
  {
   "cell_type": "code",
   "execution_count": 2,
   "metadata": {},
   "outputs": [
    {
     "name": "stdout",
     "output_type": "stream",
     "text": [
      "880\n"
     ]
    }
   ],
   "source": [
    "from sklearn.model_selection import train_test_split\n",
    "import random\n",
    "from sklearn.utils import shuffle\n",
    "\n",
    "# 数字の文字をID化\n",
    "char2id = {str(i) : i for i in range(10)}\n",
    "\n",
    "# 空白(10)：系列の長さを揃えるようのパディング文字\n",
    "# -(11)：マイナスの文字\n",
    "# _(12)：系列生成開始を知らせる文字\n",
    "char2id.update({\" \":10, \"-\":11, \"_\":12})\n",
    "\n",
    "# 空白込みの３桁の数字をランダムに生成\n",
    "def generate_number():\n",
    "    number = [random.choice(list(\"0123456789\")) for _ in range(random.randint(1, 3))]\n",
    "    return int(\"\".join(number))\n",
    "\n",
    "# 確認\n",
    "print(generate_number())"
   ]
  },
  {
   "cell_type": "code",
   "execution_count": 3,
   "metadata": {},
   "outputs": [
    {
     "name": "stdout",
     "output_type": "stream",
     "text": [
      "\"624    \"\n"
     ]
    }
   ],
   "source": [
    "# 系列の長さを揃えるために空白パディング\n",
    "def add_padding(number, is_input=True):\n",
    "    number = \"{: <7}\".format(number) if is_input else \"{: <5s}\".format(number)\n",
    "    return number\n",
    "\n",
    "# 確認\n",
    "num = generate_number()\n",
    "print(\"\\\"\" + str(add_padding(num)) + \"\\\"\")"
   ]
  },
  {
   "cell_type": "code",
   "execution_count": 4,
   "metadata": {},
   "outputs": [
    {
     "name": "stdout",
     "output_type": "stream",
     "text": [
      "[0, 11, 2, 6, 1, 10, 10]\n",
      "[12, 11, 2, 6, 1]\n"
     ]
    }
   ],
   "source": [
    "# データ準備\n",
    "input_data = []\n",
    "output_data = []\n",
    "\n",
    "# データを５００００件準備する\n",
    "while len(input_data) < 50000:\n",
    "    x = generate_number()\n",
    "    y = generate_number()\n",
    "    z = x - y\n",
    "    input_char = add_padding(str(x) + \"-\" + str(y))\n",
    "    output_char = add_padding(\"_\" + str(z), is_input=False)\n",
    "\n",
    "    # データをIDにに変換\n",
    "    input_data.append([char2id[c] for c in input_char])\n",
    "    output_data.append([char2id[c] for c in output_char])\n",
    "\n",
    "# 確認\n",
    "print(input_data[987])\n",
    "print(output_data[987])"
   ]
  },
  {
   "cell_type": "code",
   "execution_count": 6,
   "metadata": {},
   "outputs": [],
   "source": [
    "# ７：３にデータをわける\n",
    "train_x, test_x, train_y, test_y = train_test_split(input_data, output_data, train_size= 0.7)\n",
    "\n",
    "\n",
    "# データをバッチ化するための関数\n",
    "def train2batch(input_data, output_data, batch_size=100):\n",
    "    input_batch = []\n",
    "    output_batch = []\n",
    "    input_shuffle, output_shuffle = shuffle(input_data, output_data)\n",
    "    for i in range(0, len(input_data), batch_size):\n",
    "        input_batch.append(input_shuffle[i:i+batch_size])\n",
    "        output_batch.append(output_shuffle[i:i+batch_size])\n",
    "    return input_batch, output_batch"
   ]
  },
  {
   "cell_type": "markdown",
   "metadata": {},
   "source": [
    "#### モデル定義\n",
    "- Encoder\n",
    "- Encoderは簡単。隠れ層を返すだけでOK。"
   ]
  },
  {
   "cell_type": "code",
   "execution_count": 7,
   "metadata": {},
   "outputs": [],
   "source": [
    "import torch\n",
    "import torch.nn as nn\n",
    "import torch.optim as optim\n",
    "\n",
    "\n",
    "embedding_dim = 200 # 文字の埋め込み次元数\n",
    "hidden_dim = 128 # LSTMの隠れ層のサイズ\n",
    "vocab_size = len(char2id) # 扱う文字の数。今回は１３文字\n",
    "\n",
    "# GPU使う用\n",
    "device = torch.device(\"cuda\" if torch.cuda.is_available() else \"cpu\")\n",
    "\n",
    "# Encoderクラス\n",
    "class Encoder(nn.Module):\n",
    "    def __init__(self, vocab_size, embedding_dim, hidden_dim):\n",
    "        super(Encoder, self).__init__()\n",
    "        self.hidden_dim = hidden_dim\n",
    "        self.word_embeddings = nn.Embedding(vocab_size, embedding_dim, padding_idx=char2id[\" \"])\n",
    "        self.lstm = nn.LSTM(embedding_dim, hidden_dim, batch_first=True)\n",
    "\n",
    "    def forward(self, sequence):\n",
    "        embedding = self.word_embeddings(sequence)\n",
    "        # Many to Oneなので、第２戻り値を使う\n",
    "        _, state = self.lstm(embedding)\n",
    "        # state = (h, c)\n",
    "        return state"
   ]
  },
  {
   "cell_type": "markdown",
   "metadata": {},
   "source": [
    "- Decoder\n",
    "- Decoderの予測値は最大値をそのまま使えばいいので、softmaxは不要"
   ]
  },
  {
   "cell_type": "code",
   "execution_count": 8,
   "metadata": {},
   "outputs": [],
   "source": [
    "# Decoderクラス\n",
    "class Decoder(nn.Module):\n",
    "    def __init__(self, vocab_size, embedding_dim, hidden_dim):\n",
    "        super(Decoder, self).__init__()\n",
    "        self.hidden_dim = hidden_dim\n",
    "        self.word_embeddings = nn.Embedding(vocab_size, embedding_dim, padding_idx=char2id[\" \"])\n",
    "        self.lstm = nn.LSTM(embedding_dim, hidden_dim, batch_first=True)\n",
    "        # LSTMの128次元の隠れ層を13次元に変換する全結合層\n",
    "        self.hidden2linear = nn.Linear(hidden_dim, vocab_size)\n",
    "\n",
    "    def forward(self, sequence, encoder_state):\n",
    "        embedding = self.word_embeddings(sequence)\n",
    "        # Many to Manyなので、第１戻り値を使う。\n",
    "        # 第２戻り値は推論時に次の文字を生成するときに使います。\n",
    "        output, state = self.lstm(embedding, encoder_state)\n",
    "        output = self.hidden2linear(output)\n",
    "        return output, state"
   ]
  },
  {
   "cell_type": "markdown",
   "metadata": {},
   "source": [
    "#### モデル宣言、損失関数、最適化\n"
   ]
  },
  {
   "cell_type": "code",
   "execution_count": 9,
   "metadata": {},
   "outputs": [],
   "source": [
    "# GPU使えるように。\n",
    "encoder = Encoder(vocab_size, embedding_dim, hidden_dim).to(device)\n",
    "decoder = Decoder(vocab_size, embedding_dim, hidden_dim).to(device)\n",
    "\n",
    "# 損失関数\n",
    "criterion = nn.CrossEntropyLoss()\n",
    "\n",
    "# 最適化\n",
    "encoder_optimizer = optim.Adam(encoder.parameters(), lr=0.001)\n",
    "decoder_optimizer = optim.Adam(decoder.parameters(), lr=0.001)"
   ]
  },
  {
   "cell_type": "markdown",
   "metadata": {},
   "source": [
    "#### 学習"
   ]
  },
  {
   "cell_type": "code",
   "execution_count": 10,
   "metadata": {},
   "outputs": [
    {
     "name": "stdout",
     "output_type": "stream",
     "text": [
      "training ...\n",
      "Epoch 1: 1895.37\n",
      "Epoch 2: 1384.49\n",
      "Epoch 3: 1172.49\n",
      "Epoch 4: 1010.39\n",
      "Epoch 5: 875.72\n",
      "Epoch 6: 775.49\n",
      "Epoch 7: 688.40\n",
      "Epoch 8: 609.12\n",
      "Epoch 9: 536.00\n",
      "Epoch 10: 475.79\n",
      "Epoch 11: 419.91\n",
      "Epoch 12: 379.71\n",
      "Epoch 13: 342.43\n",
      "Epoch 14: 314.30\n",
      "Epoch 15: 290.91\n",
      "Epoch 16: 270.26\n",
      "Epoch 17: 251.64\n",
      "Epoch 18: 237.72\n",
      "Epoch 19: 228.58\n",
      "Epoch 20: 216.98\n",
      "Epoch 21: 206.26\n",
      "Epoch 22: 194.43\n",
      "Epoch 23: 182.96\n",
      "Epoch 24: 171.99\n",
      "Epoch 25: 169.87\n",
      "Epoch 26: 161.46\n",
      "Epoch 27: 153.86\n",
      "Epoch 28: 146.53\n",
      "Epoch 29: 146.06\n",
      "Epoch 30: 141.53\n",
      "Epoch 31: 126.96\n",
      "Epoch 32: 125.94\n",
      "Epoch 33: 117.86\n",
      "Epoch 34: 118.52\n",
      "Epoch 35: 108.54\n",
      "Epoch 36: 105.60\n",
      "Epoch 37: 106.32\n",
      "Epoch 38: 101.52\n",
      "Epoch 39: 93.99\n",
      "Epoch 40: 88.30\n",
      "Epoch 41: 84.41\n",
      "Epoch 42: 85.01\n",
      "Epoch 43: 78.40\n",
      "Epoch 44: 85.20\n",
      "Epoch 45: 78.41\n",
      "Epoch 46: 75.85\n",
      "Epoch 47: 70.92\n",
      "Epoch 48: 64.43\n",
      "Epoch 49: 66.79\n",
      "Epoch 50: 64.65\n",
      "Epoch 51: 61.55\n",
      "Epoch 52: 66.87\n",
      "Epoch 53: 51.36\n",
      "Epoch 54: 59.48\n",
      "Epoch 55: 56.66\n",
      "Epoch 56: 55.30\n",
      "Epoch 57: 50.09\n",
      "Epoch 58: 40.95\n",
      "Epoch 59: 40.92\n",
      "Epoch 60: 62.15\n",
      "Epoch 61: 54.32\n",
      "Epoch 62: 33.94\n",
      "Epoch 63: 29.60\n",
      "Epoch 64: 54.03\n",
      "Epoch 65: 47.32\n",
      "Epoch 66: 31.77\n",
      "Epoch 67: 25.64\n",
      "Epoch 68: 41.66\n",
      "Epoch 69: 42.38\n",
      "Epoch 70: 35.82\n",
      "Epoch 71: 27.08\n",
      "Epoch 72: 28.50\n",
      "Epoch 73: 43.01\n",
      "Epoch 74: 31.35\n",
      "Epoch 75: 25.81\n",
      "Epoch 76: 21.14\n",
      "Epoch 77: 18.04\n",
      "Epoch 78: 48.90\n",
      "Epoch 79: 45.23\n",
      "Epoch 80: 17.20\n",
      "Epoch 81: 10.14\n",
      "Epoch 82: 8.08\n",
      "Epoch 83: 11.25\n",
      "Epoch 84: 89.06\n",
      "Epoch 85: 23.06\n",
      "Epoch 86: 11.07\n",
      "Epoch 87: 7.40\n",
      "Epoch 88: 5.76\n",
      "Epoch 89: 5.03\n",
      "Epoch 90: 6.13\n",
      "Epoch 91: 114.41\n",
      "Epoch 92: 25.15\n",
      "Epoch 93: 14.08\n",
      "Epoch 94: 9.19\n",
      "Epoch 95: 6.75\n",
      "Epoch 96: 4.66\n",
      "Epoch 97: 3.98\n",
      "Epoch 98: 3.53\n",
      "Epoch 99: 3.28\n",
      "Epoch 100: 109.36\n",
      "Done\n"
     ]
    }
   ],
   "source": [
    "BATCH_NUM = 100\n",
    "EPOCH_NUM = 100\n",
    "\n",
    "all_losses = []\n",
    "print(\"training ...\")\n",
    "for epoch in range(1, EPOCH_NUM+1):\n",
    "    epoch_loss = 0 # epoch毎のloss\n",
    "\n",
    "    # データをミニバッチに分ける\n",
    "    input_batch, output_batch = train2batch(train_x, train_y, batch_size=BATCH_NUM)\n",
    "\n",
    "    for i in range(len(input_batch)):\n",
    "\n",
    "        # 勾配の初期化\n",
    "        encoder_optimizer.zero_grad()\n",
    "        decoder_optimizer.zero_grad()\n",
    "\n",
    "        # データをテンソルに変換\n",
    "        input_tensor = torch.tensor(input_batch[i], device=device)\n",
    "        output_tensor = torch.tensor(output_batch[i], device=device)\n",
    "\n",
    "        # Encoderの順伝搬\n",
    "        encoder_state = encoder(input_tensor)\n",
    "\n",
    "        # Decoderで使うデータはoutput_tensorを１つずらしたものを使う\n",
    "        # Decoderのインプットとするデータ\n",
    "        source = output_tensor[:, :-1]\n",
    "\n",
    "        # Decoderの教師データ\n",
    "        # 生成開始を表す\"_\"を削っている\n",
    "        target = output_tensor[:, 1:]\n",
    "\n",
    "        loss = 0\n",
    "        # 学習時はDecoderはこのように１回呼び出すだけでグルっと系列をループしているからこれでOK\n",
    "        # sourceが４文字なので、以下でLSTMが4回再帰的な処理してる\n",
    "        decoder_output, _ = decoder(source, encoder_state)\n",
    "        # decoder_output.size() = (100,4,13)\n",
    "        # 「13」は生成すべき対象の文字が13文字あるから。decoder_outputの3要素目は\n",
    "        # [-14.6240,  -3.7612, -11.0775,  ...,  -5.7391, -15.2419,  -8.6547]\n",
    "        # こんな感じの値が入っており、これの最大値に対応するインデックスを予測文字とみなす\n",
    "\n",
    "        for j in range(decoder_output.size()[1]):\n",
    "            # バッチ毎にまとめてloss計算\n",
    "            # 生成する文字は4文字なので、4回ループ\n",
    "            loss += criterion(decoder_output[:, j, :], target[:, j])\n",
    "\n",
    "        epoch_loss += loss.item()\n",
    "\n",
    "        # 誤差逆伝播\n",
    "        loss.backward()\n",
    "\n",
    "        # パラメータ更新\n",
    "        # Encoder、Decoder両方学習\n",
    "        encoder_optimizer.step()\n",
    "        decoder_optimizer.step()\n",
    "\n",
    "    # 損失を表示\n",
    "    print(\"Epoch %d: %.2f\" % (epoch, epoch_loss))\n",
    "    all_losses.append(epoch_loss)\n",
    "    if epoch_loss < 1: break\n",
    "print(\"Done\")"
   ]
  },
  {
   "cell_type": "markdown",
   "metadata": {},
   "source": [
    "#### 損失可視化"
   ]
  },
  {
   "cell_type": "code",
   "execution_count": 11,
   "metadata": {},
   "outputs": [
    {
     "data": {
      "text/plain": [
       "[<matplotlib.lines.Line2D at 0x7fd2be0802d0>]"
      ]
     },
     "execution_count": 11,
     "metadata": {},
     "output_type": "execute_result"
    },
    {
     "data": {
      "image/png": "[encoded data removed]",
      "text/plain": [
       "<Figure size 432x288 with 1 Axes>"
      ]
     },
     "metadata": {
      "needs_background": "light"
     },
     "output_type": "display_data"
    }
   ],
   "source": [
    "import matplotlib.pyplot as plt\n",
    "%matplotlib inline\n",
    "plt.plot(all_losses)"
   ]
  },
  {
   "cell_type": "markdown",
   "metadata": {},
   "source": [
    "#### 予測"
   ]
  },
  {
   "cell_type": "code",
   "execution_count": 12,
   "metadata": {},
   "outputs": [
    {
     "name": "stdout",
     "output_type": "stream",
     "text": [
      "150\n",
      "torch.Size([100, 5])\n"
     ]
    }
   ],
   "source": [
    "# Decoderのアウトプットのテンソルから要素が最大のインデックスを返す。つまり生成文字を意味する\n",
    "def get_max_index(decoder_output):\n",
    "    results = []\n",
    "    for h in decoder_output:\n",
    "        results.append(torch.argmax(h))\n",
    "    return torch.tensor(results, device=device).view(BATCH_NUM, 1)\n",
    "\n",
    "# 評価用データ\n",
    "test_input_batch, test_output_batch = train2batch(test_x, test_y)\n",
    "input_tensor = torch.tensor(test_input_batch, device=device)\n",
    "\n",
    "predicts = []\n",
    "for i in range(len(test_input_batch)):\n",
    "    with torch.no_grad(): # 勾配計算させない\n",
    "        encoder_state = encoder(input_tensor[i])\n",
    "\n",
    "    # Decoderにはまず文字列生成開始を表す\"_\"をインプットにするので、\"_\"のtensorをバッチサイズ分作成\n",
    "    start_char_batch = [[char2id[\"_\"]] for _ in range(BATCH_NUM)]\n",
    "    decoder_input_tensor = torch.tensor(start_char_batch, device=device)\n",
    "\n",
    "    # 変数名変換\n",
    "    decoder_hidden = encoder_state\n",
    "\n",
    "    # バッチ毎の結果を結合するための入れ物を定義\n",
    "    batch_tmp = torch.zeros(100,1, dtype=torch.long, device=device)\n",
    "    # print(batch_tmp.size())\n",
    "    # (100,1)\n",
    "\n",
    "    for _ in range(5):\n",
    "        decoder_output, decoder_hidden = decoder(decoder_input_tensor, decoder_hidden)\n",
    "        # 予測文字を取得しつつ、そのまま次のdecoderのインプットとなる\n",
    "        decoder_input_tensor = get_max_index(decoder_output.squeeze())\n",
    "        # バッチ毎の結果を予測順に結合\n",
    "        batch_tmp = torch.cat([batch_tmp, decoder_input_tensor], dim=1)\n",
    "\n",
    "    # 最初のbatch_tmpの0要素が先頭に残ってしまっているのでスライスして削除\n",
    "    predicts.append(batch_tmp[:,1:])\n",
    "\n",
    "# バッチ毎の予測結果がまとまって格納されてます。\n",
    "print(len(predicts))\n",
    "print(predicts[0].size())"
   ]
  },
  {
   "cell_type": "markdown",
   "metadata": {},
   "source": [
    "- 上でまとめたpredictsをDataFrameにまとめるための処理を以下で実行\n",
    "- ついでにaccuracyも計算"
   ]
  },
  {
   "cell_type": "code",
   "execution_count": 13,
   "metadata": {},
   "outputs": [
    {
     "name": "stdout",
     "output_type": "stream",
     "text": [
      "0.8101333333333334\n",
      "      input answer predict judge\n",
      "2     39-78    -39     -41     X\n",
      "6   549-936   -387    -347     X\n",
      "11  908-460    448     518     X\n",
      "14   30-654   -624    -634     X\n",
      "30  487-249    238     218     X\n",
      "32   46-297   -251    -341     X\n",
      "41   66-167   -101    -801     X\n",
      "47  152-823   -671    -661     X\n",
      "50   136-37     99     109     X\n",
      "56   231-62    169     179     X\n"
     ]
    }
   ],
   "source": [
    "import pandas as pd\n",
    "id2char = {str(i) : str(i) for i in range(10)}\n",
    "id2char.update({\"10\":\"\", \"11\":\"-\", \"12\":\"\"})\n",
    "row = []\n",
    "for i in range(len(test_input_batch)):\n",
    "    batch_input = test_input_batch[i]\n",
    "    batch_output = test_output_batch[i]\n",
    "    batch_predict = predicts[i]\n",
    "    for inp, output, predict in zip(batch_input, batch_output, batch_predict):\n",
    "        x = [id2char[str(idx)] for idx in inp]\n",
    "        y = [id2char[str(idx)] for idx in output]\n",
    "        p = [id2char[str(idx.item())] for idx in predict]\n",
    "\n",
    "        x_str = \"\".join(x)\n",
    "        y_str = \"\".join(y)\n",
    "        p_str = \"\".join(p)\n",
    "\n",
    "        judge = \"O\" if y_str == p_str else \"X\"\n",
    "        row.append([x_str, y_str, p_str, judge])\n",
    "predict_df = pd.DataFrame(row, columns=[\"input\", \"answer\", \"predict\", \"judge\"])\n",
    "\n",
    "# 正解率を表示\n",
    "print(len(predict_df.query('judge == \"O\"')) / len(predict_df))\n",
    "\n",
    "# 間違えたデータを一部見てみる\n",
    "print(predict_df.query('judge == \"X\"').head(10))"
   ]
  },
  {
   "cell_type": "code",
   "execution_count": null,
   "metadata": {},
   "outputs": [],
   "source": []
  }
 ],
 "metadata": {
  "kernelspec": {
   "display_name": "Python 3",
   "language": "python",
   "name": "python3"
  },
  "language_info": {
   "codemirror_mode": {
    "name": "ipython",
    "version": 3
   },
   "file_extension": ".py",
   "mimetype": "text/x-python",
   "name": "python",
   "nbconvert_exporter": "python",
   "pygments_lexer": "ipython3",
   "version": "3.7.6"
  }
 },
 "nbformat": 4,
 "nbformat_minor": 4
}
