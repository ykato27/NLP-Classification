{
 "cells": [
  {
   "cell_type": "markdown",
   "metadata": {},
   "source": [
    "PyTorchを使ってLSTMで文章分類を実装（バッチ対応）"
   ]
  },
  {
   "cell_type": "markdown",
   "metadata": {},
   "source": [
    "#### データ準備\n",
    "livedoorニュースコーパスの「ldcc-20140209.tar.gz」データをダウンロードします。\n",
    "https://www.rondhuit.com/download.html"
   ]
  },
  {
   "cell_type": "markdown",
   "metadata": {},
   "source": [
    "#### データフレーム作成"
   ]
  },
  {
   "cell_type": "code",
   "execution_count": 1,
   "metadata": {},
   "outputs": [],
   "source": [
    "%load_ext lab_black"
   ]
  },
  {
   "cell_type": "code",
   "execution_count": 2,
   "metadata": {},
   "outputs": [
    {
     "name": "stdout",
     "output_type": "stream",
     "text": [
      "['dokujo-tsushin', 'it-life-hack', 'kaden-channel', 'livedoor-homme', 'movie-enter', 'peachy', 'smax', 'sports-watch', 'topic-news']\n"
     ]
    }
   ],
   "source": [
    "import os\n",
    "from glob import glob\n",
    "import pandas as pd\n",
    "import linecache\n",
    "\n",
    "# カテゴリを配列で取得\n",
    "categories = [name for name in os.listdir(\"text\") if os.path.isdir(\"text/\" + name)]\n",
    "print(categories)"
   ]
  },
  {
   "cell_type": "code",
   "execution_count": 3,
   "metadata": {},
   "outputs": [
    {
     "data": {
      "text/html": [
       "<div>\n",
       "<style scoped>\n",
       "    .dataframe tbody tr th:only-of-type {\n",
       "        vertical-align: middle;\n",
       "    }\n",
       "\n",
       "    .dataframe tbody tr th {\n",
       "        vertical-align: top;\n",
       "    }\n",
       "\n",
       "    .dataframe thead th {\n",
       "        text-align: right;\n",
       "    }\n",
       "</style>\n",
       "<table border=\"1\" class=\"dataframe\">\n",
       "  <thead>\n",
       "    <tr style=\"text-align: right;\">\n",
       "      <th></th>\n",
       "      <th>title</th>\n",
       "      <th>category</th>\n",
       "    </tr>\n",
       "  </thead>\n",
       "  <tbody>\n",
       "    <tr>\n",
       "      <th>0</th>\n",
       "      <td>伊集院光がラジオで「24時間テレビ」について“本音”を語る\\n</td>\n",
       "      <td>topic-news</td>\n",
       "    </tr>\n",
       "    <tr>\n",
       "      <th>1</th>\n",
       "      <td>ハイスペックだけじゃない！？使い勝手の良いドコモスマホ「ARROWS X F-10D」の使い...</td>\n",
       "      <td>smax</td>\n",
       "    </tr>\n",
       "    <tr>\n",
       "      <th>2</th>\n",
       "      <td>無料で使えるデジタルフィルターや便利なスタンプ機能搭載！小技の効いたカメラアプリ「LINE ...</td>\n",
       "      <td>smax</td>\n",
       "    </tr>\n",
       "    <tr>\n",
       "      <th>3</th>\n",
       "      <td>明日は我が身、“闇”に飲まれる債務者たちの転落人生\\n</td>\n",
       "      <td>movie-enter</td>\n",
       "    </tr>\n",
       "    <tr>\n",
       "      <th>4</th>\n",
       "      <td>目指すはローラ!? 誰でもタメ口キャラは独女に有効か\\n</td>\n",
       "      <td>dokujo-tsushin</td>\n",
       "    </tr>\n",
       "  </tbody>\n",
       "</table>\n",
       "</div>"
      ],
      "text/plain": [
       "                                               title        category\n",
       "0                    伊集院光がラジオで「24時間テレビ」について“本音”を語る\\n      topic-news\n",
       "1  ハイスペックだけじゃない！？使い勝手の良いドコモスマホ「ARROWS X F-10D」の使い...            smax\n",
       "2  無料で使えるデジタルフィルターや便利なスタンプ機能搭載！小技の効いたカメラアプリ「LINE ...            smax\n",
       "3                        明日は我が身、“闇”に飲まれる債務者たちの転落人生\\n     movie-enter\n",
       "4                       目指すはローラ!? 誰でもタメ口キャラは独女に有効か\\n  dokujo-tsushin"
      ]
     },
     "execution_count": 3,
     "metadata": {},
     "output_type": "execute_result"
    }
   ],
   "source": [
    "datasets = pd.DataFrame(columns=[\"title\", \"category\"])\n",
    "for cat in categories:\n",
    "    path = \"text/\" + cat + \"/*.txt\"\n",
    "    files = glob(path)\n",
    "    for text_name in files:\n",
    "        title = linecache.getline(text_name, 3)\n",
    "        s = pd.Series([title, cat], index=datasets.columns)\n",
    "        datasets = datasets.append(s, ignore_index=True)\n",
    "\n",
    "# データフレームシャッフル\n",
    "datasets = datasets.sample(frac=1).reset_index(drop=True)\n",
    "datasets.head()"
   ]
  },
  {
   "cell_type": "markdown",
   "metadata": {},
   "source": [
    "#### 形態素解析エンジン定義"
   ]
  },
  {
   "cell_type": "code",
   "execution_count": 4,
   "metadata": {},
   "outputs": [],
   "source": [
    "import MeCab\n",
    "import re\n",
    "\n",
    "tagger = MeCab.Tagger(\"-Owakati\")\n",
    "\n",
    "\n",
    "def make_wakati(sentence):\n",
    "    sentence = tagger.parse(sentence)\n",
    "    sentence = re.sub(r\"[0-9０-９a-zA-Zａ-ｚＡ-Ｚ]+\", \" \", sentence)\n",
    "    sentence = re.sub(\n",
    "        r\"[\\．_－―─！＠＃＄％＾＆\\-‐|\\\\＊\\“（）＿■×+α※÷⇒—●★☆〇◎◆▼◇△□(：〜～＋=)／*&^%$#@!~`){}［］…\\[\\]\\\"\\'\\”\\’:;<>?＜＞〔〕〈〉？、。・,\\./『』【】「」→←○《》≪≫\\n\\u3000]+\",\n",
    "        \"\",\n",
    "        sentence,\n",
    "    )\n",
    "    wakati = sentence.split(\" \")\n",
    "    wakati = list(filter((\"\").__ne__, wakati))\n",
    "    return wakati"
   ]
  },
  {
   "cell_type": "markdown",
   "metadata": {},
   "source": [
    "#### 単語IDの辞書を定義"
   ]
  },
  {
   "cell_type": "code",
   "execution_count": 5,
   "metadata": {},
   "outputs": [
    {
     "name": "stdout",
     "output_type": "stream",
     "text": [
      "vocab size :  12944\n"
     ]
    }
   ],
   "source": [
    "word2index = {}\n",
    "# 系列を揃えるためのパディング文字列<pad>を追加\n",
    "# パディング文字列のIDは0とする\n",
    "word2index.update({\"<pad>\": 0})\n",
    "\n",
    "for title in datasets[\"title\"]:\n",
    "    wakati = make_wakati(title)\n",
    "    for word in wakati:\n",
    "        if word in word2index:\n",
    "            continue\n",
    "        word2index[word] = len(word2index)\n",
    "print(\"vocab size : \", len(word2index))"
   ]
  },
  {
   "cell_type": "markdown",
   "metadata": {},
   "source": [
    "#### 系列の長さを揃えてバッチでまとめる"
   ]
  },
  {
   "cell_type": "code",
   "execution_count": 6,
   "metadata": {},
   "outputs": [],
   "source": [
    "from sklearn.model_selection import train_test_split\n",
    "import random\n",
    "from sklearn.utils import shuffle\n",
    "\n",
    "cat2index = {}\n",
    "for cat in categories:\n",
    "    if cat in cat2index:\n",
    "        continue\n",
    "    cat2index[cat] = len(cat2index)\n",
    "\n",
    "\n",
    "def sentence2index(sentence):\n",
    "    wakati = make_wakati(sentence)\n",
    "    return [word2index[w] for w in wakati]\n",
    "\n",
    "\n",
    "def category2index(cat):\n",
    "    return [cat2index[cat]]\n",
    "\n",
    "\n",
    "index_datasets_title_tmp = []\n",
    "index_datasets_category = []\n",
    "\n",
    "# 系列の長さの最大値を取得。この長さに他の系列の長さをあわせる\n",
    "max_len = 0\n",
    "for title, category in zip(datasets[\"title\"], datasets[\"category\"]):\n",
    "    index_title = sentence2index(title)\n",
    "    index_category = category2index(category)\n",
    "    index_datasets_title_tmp.append(index_title)\n",
    "    index_datasets_category.append(index_category)\n",
    "    if max_len < len(index_title):\n",
    "        max_len = len(index_title)\n",
    "\n",
    "# 系列の長さを揃えるために短い系列にパディングを追加\n",
    "# 後ろパディングだと正しく学習できなかったので、前パディング\n",
    "index_datasets_title = []\n",
    "for title in index_datasets_title_tmp:\n",
    "    for i in range(max_len - len(title)):\n",
    "        title.insert(0, 0)  # 前パディング\n",
    "    #     title.append(0)　# 後ろパディング\n",
    "    index_datasets_title.append(title)\n",
    "\n",
    "train_x, test_x, train_y, test_y = train_test_split(\n",
    "    index_datasets_title, index_datasets_category, train_size=0.7\n",
    ")\n",
    "\n",
    "# データをバッチでまとめるための関数\n",
    "def train2batch(title, category, batch_size=100):\n",
    "    title_batch = []\n",
    "    category_batch = []\n",
    "    title_shuffle, category_shuffle = shuffle(title, category)\n",
    "    for i in range(0, len(title), batch_size):\n",
    "        title_batch.append(title_shuffle[i : i + batch_size])\n",
    "        category_batch.append(category_shuffle[i : i + batch_size])\n",
    "    return title_batch, category_batch"
   ]
  },
  {
   "cell_type": "markdown",
   "metadata": {},
   "source": [
    "#### モデル定義\n",
    "パディング文字列ももちろん埋め込む必要があるわけですが、<pad>は0ベクトルで埋め込み、学習の妨げにならないようにするために、nn.Embedding()にてpadding_idx=0を追加。\n",
    "LSTMを定義する際、batch_first=Trueを指定すると、LSTMのインプットの形式がバッチサイズ × 文章の長さ × ベクトル次元数になる。こうしたほうが次元を操作する際にわかりやすい。"
   ]
  },
  {
   "cell_type": "code",
   "execution_count": 7,
   "metadata": {},
   "outputs": [],
   "source": [
    "import torch\n",
    "import torch.nn as nn\n",
    "import torch.nn.functional as F\n",
    "import torch.optim as optim\n",
    "\n",
    "# GPUを使うために必要\n",
    "device = torch.device(\"cuda\" if torch.cuda.is_available() else \"cpu\")\n",
    "\n",
    "\n",
    "class LSTMClassifier(nn.Module):\n",
    "    def __init__(self, embedding_dim, hidden_dim, vocab_size, tagset_size):\n",
    "        super(LSTMClassifier, self).__init__()\n",
    "        self.hidden_dim = hidden_dim\n",
    "        # <pad>の単語IDが0なので、padding_idx=0としている\n",
    "        self.word_embeddings = nn.Embedding(vocab_size, embedding_dim, padding_idx=0)\n",
    "        # batch_first=Trueが大事！\n",
    "        self.lstm = nn.LSTM(embedding_dim, hidden_dim, batch_first=True)\n",
    "        self.hidden2tag = nn.Linear(hidden_dim, tagset_size)\n",
    "        self.softmax = nn.LogSoftmax()\n",
    "\n",
    "    def forward(self, sentence):\n",
    "        embeds = self.word_embeddings(sentence)\n",
    "        # embeds.size() = (batch_size × len(sentence) × embedding_dim)\n",
    "        _, lstm_out = self.lstm(embeds)\n",
    "        # lstm_out[0].size() = (1 × batch_size × hidden_dim)\n",
    "        tag_space = self.hidden2tag(lstm_out[0])\n",
    "        # tag_space.size() = (1 × batch_size × tagset_size)\n",
    "\n",
    "        # (batch_size × tagset_size)にするためにsqueeze()する\n",
    "        tag_scores = self.softmax(tag_space.squeeze())\n",
    "        # tag_scores.size() = (batch_size × tagset_size)\n",
    "\n",
    "        return tag_scores\n",
    "\n",
    "\n",
    "# 単語の埋め込み次元数上げた。精度がそこそこアップ！ハイパーパラメータのチューニング大事。\n",
    "EMBEDDING_DIM = 200\n",
    "HIDDEN_DIM = 128\n",
    "VOCAB_SIZE = len(word2index)\n",
    "TAG_SIZE = len(categories)\n",
    "# to(device)でモデルがGPU対応する\n",
    "model = LSTMClassifier(EMBEDDING_DIM, HIDDEN_DIM, VOCAB_SIZE, TAG_SIZE).to(device)\n",
    "loss_function = nn.NLLLoss()\n",
    "# SGDからAdamに変更。特に意味はなし\n",
    "optimizer = optim.Adam(model.parameters(), lr=0.001)"
   ]
  },
  {
   "cell_type": "markdown",
   "metadata": {},
   "source": [
    "#### 学習\n",
    "1epoch毎に全バッチを学習させます。バッチごとに逆伝搬してパラメータ更新させてます。"
   ]
  },
  {
   "cell_type": "code",
   "execution_count": 8,
   "metadata": {},
   "outputs": [
    {
     "name": "stderr",
     "output_type": "stream",
     "text": [
      "/tmp/ipykernel_1202/393135737.py:29: UserWarning: Implicit dimension choice for log_softmax has been deprecated. Change the call to include dim=X as an argument.\n",
      "  tag_scores = self.softmax(tag_space.squeeze())\n"
     ]
    },
    {
     "name": "stdout",
     "output_type": "stream",
     "text": [
      "epoch 0 \t loss 93.04149925708771\n",
      "epoch 1 \t loss 62.45664310455322\n",
      "epoch 2 \t loss 43.46033388376236\n",
      "epoch 3 \t loss 28.61568146944046\n",
      "epoch 4 \t loss 17.592857524752617\n",
      "epoch 5 \t loss 10.297913916409016\n",
      "epoch 6 \t loss 5.414330828934908\n",
      "epoch 7 \t loss 2.8578354120254517\n",
      "epoch 8 \t loss 1.7016379898414016\n",
      "epoch 9 \t loss 1.0987466918304563\n",
      "epoch 10 \t loss 0.7342332750558853\n",
      "epoch 11 \t loss 0.5618548397906125\n",
      "epoch 12 \t loss 0.46699896827340126\n",
      "epoch 13 \t loss 0.3963501160033047\n",
      "epoch 14 \t loss 0.3569310759194195\n",
      "epoch 15 \t loss 0.31966969510540366\n",
      "epoch 16 \t loss 0.29835499310866\n",
      "epoch 17 \t loss 0.27902118349447846\n",
      "epoch 18 \t loss 0.2592971900012344\n",
      "epoch 19 \t loss 0.2477262222673744\n",
      "epoch 20 \t loss 0.24968541599810123\n",
      "epoch 21 \t loss 0.22629665036220104\n",
      "epoch 22 \t loss 0.21266001695767045\n",
      "epoch 23 \t loss 0.21197290293639526\n",
      "epoch 24 \t loss 0.20655955182155594\n",
      "epoch 25 \t loss 0.19902404095046222\n",
      "epoch 26 \t loss 0.1980102310772054\n",
      "epoch 27 \t loss 0.19202346372185275\n",
      "epoch 28 \t loss 0.1875087086809799\n",
      "epoch 29 \t loss 0.18537949334131554\n",
      "epoch 30 \t loss 0.1948886430473067\n",
      "epoch 31 \t loss 0.1769813444407191\n",
      "epoch 32 \t loss 0.17785270290914923\n",
      "epoch 33 \t loss 0.1759138497582171\n",
      "epoch 34 \t loss 0.1731117598246783\n",
      "epoch 35 \t loss 0.17093171837041155\n",
      "epoch 36 \t loss 0.16813439433462918\n",
      "epoch 37 \t loss 0.1681132851226721\n",
      "epoch 38 \t loss 0.1679908664082177\n",
      "epoch 39 \t loss 0.16612352881929837\n",
      "epoch 40 \t loss 0.16515943319245707\n",
      "epoch 41 \t loss 0.1608118672593264\n",
      "epoch 42 \t loss 0.1624893655971391\n",
      "epoch 43 \t loss 0.1706960554001853\n",
      "epoch 44 \t loss 0.16074166624457575\n",
      "epoch 45 \t loss 0.1563402131141629\n",
      "epoch 46 \t loss 0.15945907855348196\n",
      "epoch 47 \t loss 0.15532405527483206\n",
      "epoch 48 \t loss 0.1563812711974606\n",
      "epoch 49 \t loss 0.1546021548419958\n",
      "epoch 50 \t loss 0.1566419940572814\n",
      "epoch 51 \t loss 0.15619140637863893\n",
      "epoch 52 \t loss 0.155112356034806\n",
      "epoch 53 \t loss 0.1545807577422238\n",
      "epoch 54 \t loss 0.15399036348389927\n",
      "epoch 55 \t loss 0.15313411683018785\n",
      "epoch 56 \t loss 0.15311859518988058\n",
      "epoch 57 \t loss 0.15339243880589493\n",
      "epoch 58 \t loss 0.15028015027201036\n",
      "epoch 59 \t loss 0.15092687481228495\n",
      "epoch 60 \t loss 0.1497693133787834\n",
      "epoch 61 \t loss 0.1483725969446823\n",
      "epoch 62 \t loss 0.149232502488303\n",
      "epoch 63 \t loss 0.14915289314376423\n",
      "epoch 64 \t loss 0.14975065882026684\n",
      "epoch 65 \t loss 0.14787532091577305\n",
      "epoch 66 \t loss 0.14738388531986857\n",
      "epoch 67 \t loss 0.1463861610609456\n",
      "epoch 68 \t loss 0.14654402937594568\n",
      "epoch 69 \t loss 0.14825742838002043\n",
      "epoch 70 \t loss 0.14679494569281815\n",
      "epoch 71 \t loss 0.14558873705027509\n",
      "epoch 72 \t loss 0.14651594233873766\n",
      "epoch 73 \t loss 0.14442344888448133\n",
      "epoch 74 \t loss 0.14644688661792316\n",
      "epoch 75 \t loss 0.146102869141032\n",
      "epoch 76 \t loss 0.14485037935810396\n",
      "epoch 77 \t loss 0.14487528126483085\n",
      "epoch 78 \t loss 0.14575289099593647\n",
      "epoch 79 \t loss 0.14532667764797225\n",
      "epoch 80 \t loss 0.14500850674085086\n",
      "epoch 81 \t loss 0.14490086994919693\n",
      "epoch 82 \t loss 0.14434444371727295\n",
      "epoch 83 \t loss 0.1445179636357352\n",
      "epoch 84 \t loss 0.14407368353931815\n",
      "epoch 85 \t loss 0.14332814446970588\n",
      "epoch 86 \t loss 0.14385084429159178\n",
      "epoch 87 \t loss 0.1429202786712267\n",
      "epoch 88 \t loss 0.14331588263303274\n",
      "epoch 89 \t loss 0.14283502554826555\n",
      "epoch 90 \t loss 0.14333428468489728\n",
      "epoch 91 \t loss 0.14295206253882498\n",
      "epoch 92 \t loss 0.15543988193167024\n",
      "epoch 93 \t loss 0.14496356996278337\n",
      "epoch 94 \t loss 0.1434480175612407\n",
      "epoch 95 \t loss 0.14311276031367015\n",
      "epoch 96 \t loss 0.14276364560100774\n",
      "epoch 97 \t loss 0.1544938896822714\n",
      "epoch 98 \t loss 0.15443330737434735\n",
      "epoch 99 \t loss 0.15232262407516828\n",
      "done.\n"
     ]
    }
   ],
   "source": [
    "losses = []\n",
    "for epoch in range(100):\n",
    "    all_loss = 0\n",
    "    title_batch, category_batch = train2batch(train_x, train_y)\n",
    "    for i in range(len(title_batch)):\n",
    "        batch_loss = 0\n",
    "\n",
    "        model.zero_grad()\n",
    "\n",
    "        # 順伝搬させるtensorはGPUで処理させるためdevice=にGPUをセット\n",
    "        title_tensor = torch.tensor(title_batch[i], device=device)\n",
    "        # category_tensor.size() = (batch_size × 1)なので、squeeze()\n",
    "        category_tensor = torch.tensor(category_batch[i], device=device).squeeze()\n",
    "\n",
    "        out = model(title_tensor)\n",
    "\n",
    "        batch_loss = loss_function(out, category_tensor)\n",
    "        batch_loss.backward()\n",
    "        optimizer.step()\n",
    "\n",
    "        all_loss += batch_loss.item()\n",
    "    print(\"epoch\", epoch, \"\\t\", \"loss\", all_loss)\n",
    "    if all_loss < 0.1:\n",
    "        break\n",
    "print(\"done.\")"
   ]
  },
  {
   "cell_type": "markdown",
   "metadata": {},
   "source": [
    "#### 予測\n",
    "バッチ毎にまとめて予測。\n",
    "前回と比べて精度が上がっているのは単語の埋め込み次元数を上げたからだと思われます。"
   ]
  },
  {
   "cell_type": "code",
   "execution_count": 9,
   "metadata": {},
   "outputs": [
    {
     "name": "stderr",
     "output_type": "stream",
     "text": [
      "/tmp/ipykernel_1202/393135737.py:29: UserWarning: Implicit dimension choice for log_softmax has been deprecated. Change the call to include dim=X as an argument.\n",
      "  tag_scores = self.softmax(tag_space.squeeze())\n"
     ]
    },
    {
     "name": "stdout",
     "output_type": "stream",
     "text": [
      "predict :  0.684591052869408\n"
     ]
    }
   ],
   "source": [
    "test_num = len(test_x)\n",
    "a = 0\n",
    "with torch.no_grad():\n",
    "    title_batch, category_batch = train2batch(test_x, test_y)\n",
    "\n",
    "    for i in range(len(title_batch)):\n",
    "        title_tensor = torch.tensor(title_batch[i], device=device)\n",
    "        category_tensor = torch.tensor(category_batch[i], device=device)\n",
    "\n",
    "        out = model(title_tensor)\n",
    "        _, predicts = torch.max(out, 1)\n",
    "        for j, ans in enumerate(category_tensor):\n",
    "            if predicts[j].item() == ans.item():\n",
    "                a += 1\n",
    "print(\"predict : \", a / test_num)"
   ]
  },
  {
   "cell_type": "code",
   "execution_count": null,
   "metadata": {},
   "outputs": [],
   "source": []
  }
 ],
 "metadata": {
  "kernelspec": {
   "display_name": "Python 3 (ipykernel)",
   "language": "python",
   "name": "python3"
  },
  "language_info": {
   "codemirror_mode": {
    "name": "ipython",
    "version": 3
   },
   "file_extension": ".py",
   "mimetype": "text/x-python",
   "name": "python",
   "nbconvert_exporter": "python",
   "pygments_lexer": "ipython3",
   "version": "3.9.9"
  }
 },
 "nbformat": 4,
 "nbformat_minor": 4
}
