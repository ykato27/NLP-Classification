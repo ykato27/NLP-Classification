{
 "cells": [
  {
   "cell_type": "markdown",
   "metadata": {},
   "source": [
    "## PyTorchを使ってLSTMで文章分類を実装"
   ]
  },
  {
   "cell_type": "markdown",
   "metadata": {},
   "source": [
    "#### データ準備\n",
    "livedoorニュースコーパスの「ldcc-20140209.tar.gz」データをダウンロードします。\n",
    "https://www.rondhuit.com/download.html"
   ]
  },
  {
   "cell_type": "markdown",
   "metadata": {},
   "source": [
    "#### データフレーム作成"
   ]
  },
  {
   "cell_type": "code",
   "execution_count": 1,
   "metadata": {},
   "outputs": [],
   "source": [
    "%load_ext lab_black"
   ]
  },
  {
   "cell_type": "code",
   "execution_count": 2,
   "metadata": {},
   "outputs": [
    {
     "name": "stdout",
     "output_type": "stream",
     "text": [
      "['dokujo-tsushin', 'it-life-hack', 'kaden-channel', 'livedoor-homme', 'movie-enter', 'peachy', 'smax', 'sports-watch', 'topic-news']\n"
     ]
    }
   ],
   "source": [
    "import os\n",
    "from glob import glob\n",
    "import pandas as pd\n",
    "import linecache\n",
    "\n",
    "# カテゴリを配列で取得\n",
    "categories = [name for name in os.listdir(\"text\") if os.path.isdir(\"text/\" + name)]\n",
    "print(categories)"
   ]
  },
  {
   "cell_type": "code",
   "execution_count": 3,
   "metadata": {},
   "outputs": [
    {
     "data": {
      "text/html": [
       "<div>\n",
       "<style scoped>\n",
       "    .dataframe tbody tr th:only-of-type {\n",
       "        vertical-align: middle;\n",
       "    }\n",
       "\n",
       "    .dataframe tbody tr th {\n",
       "        vertical-align: top;\n",
       "    }\n",
       "\n",
       "    .dataframe thead th {\n",
       "        text-align: right;\n",
       "    }\n",
       "</style>\n",
       "<table border=\"1\" class=\"dataframe\">\n",
       "  <thead>\n",
       "    <tr style=\"text-align: right;\">\n",
       "      <th></th>\n",
       "      <th>title</th>\n",
       "      <th>category</th>\n",
       "    </tr>\n",
       "  </thead>\n",
       "  <tbody>\n",
       "    <tr>\n",
       "      <th>0</th>\n",
       "      <td>女子力を下げる！？ ブラトップのメリット・デメリット\\n</td>\n",
       "      <td>dokujo-tsushin</td>\n",
       "    </tr>\n",
       "    <tr>\n",
       "      <th>1</th>\n",
       "      <td>60歳のリーアム・ニーソンが大自然に挑む！　全米初登場1位を獲得した話題作の特別映像が公開\\n</td>\n",
       "      <td>movie-enter</td>\n",
       "    </tr>\n",
       "    <tr>\n",
       "      <th>2</th>\n",
       "      <td>清水エスパルス、ラフプレー連発の韓国チームとの試合打ち切り\\n</td>\n",
       "      <td>sports-watch</td>\n",
       "    </tr>\n",
       "    <tr>\n",
       "      <th>3</th>\n",
       "      <td>【週末映画まとめ読み】川口春奈の学校の呪いか、怪奇現象が撮影スタッフを襲う\\n</td>\n",
       "      <td>movie-enter</td>\n",
       "    </tr>\n",
       "    <tr>\n",
       "      <th>4</th>\n",
       "      <td>応援する？ ムカつく？ あなたの近くの社内恋愛\\n</td>\n",
       "      <td>dokujo-tsushin</td>\n",
       "    </tr>\n",
       "  </tbody>\n",
       "</table>\n",
       "</div>"
      ],
      "text/plain": [
       "                                             title        category\n",
       "0                     女子力を下げる！？ ブラトップのメリット・デメリット\\n  dokujo-tsushin\n",
       "1  60歳のリーアム・ニーソンが大自然に挑む！　全米初登場1位を獲得した話題作の特別映像が公開\\n     movie-enter\n",
       "2                  清水エスパルス、ラフプレー連発の韓国チームとの試合打ち切り\\n    sports-watch\n",
       "3          【週末映画まとめ読み】川口春奈の学校の呪いか、怪奇現象が撮影スタッフを襲う\\n     movie-enter\n",
       "4                        応援する？ ムカつく？ あなたの近くの社内恋愛\\n  dokujo-tsushin"
      ]
     },
     "execution_count": 3,
     "metadata": {},
     "output_type": "execute_result"
    }
   ],
   "source": [
    "datasets = pd.DataFrame(columns=[\"title\", \"category\"])\n",
    "for cat in categories:\n",
    "    path = \"text/\" + cat + \"/*.txt\"\n",
    "    files = glob(path)\n",
    "    for text_name in files:\n",
    "        title = linecache.getline(text_name, 3)\n",
    "        s = pd.Series([title, cat], index=datasets.columns)\n",
    "        datasets = datasets.append(s, ignore_index=True)\n",
    "\n",
    "# データフレームシャッフル\n",
    "datasets = datasets.sample(frac=1).reset_index(drop=True)\n",
    "datasets.head()"
   ]
  },
  {
   "cell_type": "markdown",
   "metadata": {},
   "source": [
    "#### インプットデータの前処理"
   ]
  },
  {
   "cell_type": "code",
   "execution_count": 4,
   "metadata": {},
   "outputs": [
    {
     "name": "stdout",
     "output_type": "stream",
     "text": [
      "tensor([[-0.0034, -1.0937, -0.8714, -0.6852, -1.8119, -1.0698]],\n",
      "       grad_fn=<EmbeddingBackward0>)\n",
      "tensor([[-0.0034, -1.0937, -0.8714, -0.6852, -1.8119, -1.0698],\n",
      "        [-1.0718, -1.6312, -1.0900,  0.2803,  0.5652,  0.3648],\n",
      "        [ 1.5000,  0.5839, -1.7280,  0.8511, -0.1485,  0.2626]],\n",
      "       grad_fn=<EmbeddingBackward0>)\n"
     ]
    }
   ],
   "source": [
    "import torch\n",
    "import torch.nn as nn\n",
    "\n",
    "# 以下の宣言で行が単語ベクトル、列が単語のインデックスのマトリクスを生成してる感じ\n",
    "embeds = nn.Embedding(10, 6)  # (Embedding(単語の合計数, ベクトル次元数))\n",
    "\n",
    "# ３行目の要素を取り出したいならば\n",
    "w1 = torch.tensor([2])\n",
    "print(embeds(w1))\n",
    "# tensor([[-1.5947, -0.8387,  0.7669, -0.9644, -0.7902,  2.7167]],\n",
    "#        grad_fn=<EmbeddingBackward>)\n",
    "\n",
    "# 3行目、5行目、１０行目の要素を取り出したいならば、\n",
    "w2 = torch.tensor([2, 4, 9])\n",
    "print(embeds(w2))"
   ]
  },
  {
   "cell_type": "code",
   "execution_count": 5,
   "metadata": {},
   "outputs": [
    {
     "name": "stdout",
     "output_type": "stream",
     "text": [
      "['人工', '知能', 'は', '人間', 'の', '仕事', 'を', '奪っ', 'た']\n"
     ]
    }
   ],
   "source": [
    "import MeCab\n",
    "import re\n",
    "import torch\n",
    "\n",
    "tagger = MeCab.Tagger(\"-Owakati\")\n",
    "\n",
    "\n",
    "def make_wakati(sentence):\n",
    "    # MeCabで分かち書き\n",
    "    sentence = tagger.parse(sentence)\n",
    "    # 半角全角英数字除去\n",
    "    sentence = re.sub(r\"[0-9０-９a-zA-Zａ-ｚＡ-Ｚ]+\", \" \", sentence)\n",
    "    # 記号もろもろ除去\n",
    "    sentence = re.sub(\n",
    "        r\"[\\．_－―─！＠＃＄％＾＆\\-‐|\\\\＊\\“（）＿■×+α※÷⇒—●★☆〇◎◆▼◇△□(：〜～＋=)／*&^%$#@!~`){}［］…\\[\\]\\\"\\'\\”\\’:;<>?＜＞〔〕〈〉？、。・,\\./『』【】「」→←○《》≪≫\\n\\u3000]+\",\n",
    "        \"\",\n",
    "        sentence,\n",
    "    )\n",
    "    # スペースで区切って形態素の配列へ\n",
    "    wakati = sentence.split(\" \")\n",
    "    # 空の要素は削除\n",
    "    wakati = list(filter((\"\").__ne__, wakati))\n",
    "    return wakati\n",
    "\n",
    "\n",
    "# テスト\n",
    "test = \"【人工知能】は「人間」の仕事を奪った\"\n",
    "print(make_wakati(test))"
   ]
  },
  {
   "cell_type": "code",
   "execution_count": 6,
   "metadata": {},
   "outputs": [
    {
     "name": "stdout",
     "output_type": "stream",
     "text": [
      "vocab size :  12943\n",
      "tensor([11146,     5,   510,  1791,    87,   455,   579,   117,     5,  6609,\n",
      "         9441,  1791,   139,   226,  8867])\n"
     ]
    }
   ],
   "source": [
    "# 単語ID辞書を作成する\n",
    "word2index = {}\n",
    "for title in datasets[\"title\"]:\n",
    "    wakati = make_wakati(title)\n",
    "    for word in wakati:\n",
    "        if word in word2index:\n",
    "            continue\n",
    "        word2index[word] = len(word2index)\n",
    "print(\"vocab size : \", len(word2index))\n",
    "\n",
    "# 文章を単語IDの系列データに変換\n",
    "# PyTorchのLSTMのインプットになるデータなので、もちろんtensor型で\n",
    "def sentence2index(sentence):\n",
    "    wakati = make_wakati(sentence)\n",
    "    return torch.tensor([word2index[w] for w in wakati], dtype=torch.long)\n",
    "\n",
    "\n",
    "# テスト\n",
    "test = \"例のあのメニューも！ニコニコ超会議のフードコートメニュー14種類紹介（前半）\"\n",
    "print(sentence2index(test))"
   ]
  },
  {
   "cell_type": "code",
   "execution_count": 7,
   "metadata": {},
   "outputs": [
    {
     "name": "stdout",
     "output_type": "stream",
     "text": [
      "torch.Size([13, 10])\n",
      "tensor([[ 1.2924,  1.0049, -0.4235, -0.3145, -0.2015,  0.2303, -1.5611,  0.7944,\n",
      "         -1.5076, -0.8984],\n",
      "        [ 2.7855,  1.5174, -1.6479, -0.6083,  1.1645,  0.0814, -0.4043, -0.9885,\n",
      "          0.3231,  0.0576],\n",
      "        [-0.2359,  0.6628, -0.7361, -1.0698, -0.0396, -0.6841, -0.7214, -1.3837,\n",
      "         -0.1436,  1.3037],\n",
      "        [-0.2570, -0.7394, -1.4081,  0.1961, -0.3433,  0.0773,  1.6191,  2.7852,\n",
      "         -1.3463, -0.2776],\n",
      "        [ 0.9059, -1.1631, -0.6054,  2.1713,  0.2681,  1.3946,  1.3794, -1.0091,\n",
      "         -1.4485,  0.3529],\n",
      "        [ 0.6158,  0.2263,  2.4530,  1.4154, -0.3832,  0.8459,  0.8830,  1.0365,\n",
      "          0.6138, -1.1633],\n",
      "        [ 0.7098,  1.5520,  1.6125,  0.2795,  1.0094, -2.2304, -0.5424,  1.6241,\n",
      "          0.3676, -0.0075],\n",
      "        [-1.5199, -1.4179, -1.1198, -1.3027,  0.4719, -1.0985, -0.6489,  0.7052,\n",
      "         -0.1862,  1.9341],\n",
      "        [ 2.7855,  1.5174, -1.6479, -0.6083,  1.1645,  0.0814, -0.4043, -0.9885,\n",
      "          0.3231,  0.0576],\n",
      "        [ 3.1440,  1.0042,  0.5621, -1.8985, -0.2490, -1.3089, -1.4924,  2.0114,\n",
      "          0.6218,  0.1814],\n",
      "        [-0.5909, -1.6925,  0.5677, -1.3371, -0.0907,  0.0845,  1.0076, -0.1504,\n",
      "         -1.2118,  0.7135],\n",
      "        [ 0.6556,  0.9722, -0.3813,  0.0975, -0.2587,  2.0446,  0.0325,  0.6310,\n",
      "          0.0890,  0.8192],\n",
      "        [ 0.0791, -0.3671, -0.3946, -1.0270, -0.5004, -0.2732,  0.8877, -0.7449,\n",
      "         -0.1507, -1.4660]], grad_fn=<EmbeddingBackward0>)\n"
     ]
    }
   ],
   "source": [
    "# 全単語数を取得\n",
    "VOCAB_SIZE = len(word2index)\n",
    "# 単語のベクトル数\n",
    "EMBEDDING_DIM = 10\n",
    "test = \"ユージの前に立ちはだかったJOY「僕はAKBの高橋みなみを守る」\"\n",
    "# 単語IDの系列データに変換\n",
    "inputs = sentence2index(test)\n",
    "# 各単語のベクトルをまとめて取得\n",
    "embeds = nn.Embedding(VOCAB_SIZE, EMBEDDING_DIM)\n",
    "sentence_matrix = embeds(inputs)\n",
    "print(sentence_matrix.size())\n",
    "print(sentence_matrix)"
   ]
  },
  {
   "cell_type": "code",
   "execution_count": 8,
   "metadata": {},
   "outputs": [
    {
     "data": {
      "text/plain": [
       "torch.Size([13, 1, 10])"
      ]
     },
     "execution_count": 8,
     "metadata": {},
     "output_type": "execute_result"
    }
   ],
   "source": [
    "sentence_matrix.view(len(sentence_matrix), 1, -1).size()"
   ]
  },
  {
   "cell_type": "markdown",
   "metadata": {},
   "source": [
    "#### モデル定義"
   ]
  },
  {
   "cell_type": "code",
   "execution_count": 9,
   "metadata": {},
   "outputs": [
    {
     "name": "stdout",
     "output_type": "stream",
     "text": [
      "['震災', 'を', 'うけ', 'て', '感じ', 'た', '大切', 'だ', 'と', '思っ', 'た', 'こと']\n"
     ]
    }
   ],
   "source": [
    "VOCAB_SIZE = len(word2index)\n",
    "EMBEDDING_DIM = 10\n",
    "HIDDEN_DIM = 128\n",
    "embeds = nn.Embedding(VOCAB_SIZE, EMBEDDING_DIM)\n",
    "lstm = nn.LSTM(EMBEDDING_DIM, HIDDEN_DIM)\n",
    "s1 = \"震災をうけて感じた、大切だと思ったこと\"\n",
    "print(make_wakati(s1))"
   ]
  },
  {
   "cell_type": "code",
   "execution_count": 10,
   "metadata": {},
   "outputs": [
    {
     "name": "stdout",
     "output_type": "stream",
     "text": [
      "tensor([[[ 0.0128,  0.0267,  0.0776,  ..., -0.0112,  0.0140,  0.0113]],\n",
      "\n",
      "        [[-0.0264,  0.0674,  0.1119,  ..., -0.0416, -0.0032,  0.0505]],\n",
      "\n",
      "        [[-0.0053,  0.0437,  0.1291,  ..., -0.0072,  0.0328, -0.0062]],\n",
      "\n",
      "        ...,\n",
      "\n",
      "        [[ 0.0551,  0.0038,  0.0182,  ...,  0.0249,  0.0209, -0.0449]],\n",
      "\n",
      "        [[ 0.1119,  0.0309, -0.0194,  ..., -0.0072, -0.0141,  0.0214]],\n",
      "\n",
      "        [[ 0.1313,  0.0005,  0.0278,  ...,  0.0137,  0.0589,  0.0211]]],\n",
      "       grad_fn=<StackBackward0>)\n",
      "(tensor([[[ 1.3127e-01,  4.7330e-04,  2.7796e-02, -7.9767e-02,  5.1947e-02,\n",
      "          -4.5127e-02, -6.4936e-02,  8.7204e-02, -3.8702e-03, -3.8706e-02,\n",
      "          -6.3807e-02,  6.5902e-02, -2.4949e-02,  8.3646e-02, -6.3064e-02,\n",
      "          -1.0602e-01,  3.8388e-05,  6.8999e-02,  4.0204e-02, -8.6478e-03,\n",
      "          -2.7997e-02,  5.8894e-02,  5.8136e-02,  5.6753e-02, -9.4914e-02,\n",
      "           4.6531e-03,  7.7826e-02, -3.4170e-02, -7.5847e-02,  3.3081e-02,\n",
      "           4.5665e-02,  6.9231e-02,  5.7566e-02, -9.7086e-03,  4.5250e-02,\n",
      "          -2.7253e-02, -7.1551e-02,  3.2714e-02,  3.7147e-02,  2.4832e-02,\n",
      "          -1.9405e-02, -3.1688e-02,  3.9427e-02,  5.3601e-02,  5.2349e-03,\n",
      "           5.0764e-02, -1.5462e-02,  4.5652e-02, -4.0091e-02, -4.0381e-02,\n",
      "           1.0862e-01,  7.7230e-03, -1.3595e-02,  3.1126e-02, -4.8445e-02,\n",
      "          -1.9797e-02,  2.6548e-02,  3.9553e-02,  6.4008e-02, -9.4711e-02,\n",
      "           4.9239e-02,  3.5678e-02,  1.3752e-02,  1.5067e-01,  1.3298e-03,\n",
      "          -7.0645e-02,  5.9583e-02,  5.8131e-02,  1.0833e-01,  3.0180e-02,\n",
      "           3.6855e-02,  1.1172e-02, -4.4471e-05,  3.9735e-02,  1.6739e-02,\n",
      "           3.3633e-03, -2.4313e-02,  1.3614e-02, -2.2227e-02,  5.9530e-02,\n",
      "          -1.3639e-02,  8.9830e-03, -3.2634e-02, -4.8858e-02, -8.3744e-02,\n",
      "           7.8117e-02,  4.9688e-03,  1.4055e-02,  5.4306e-02,  3.3536e-02,\n",
      "           3.4316e-02,  7.0889e-02,  2.8314e-02, -2.5754e-02, -2.7078e-02,\n",
      "           1.9537e-02,  3.2624e-02,  3.3807e-02,  1.3330e-02, -5.3879e-02,\n",
      "          -2.8655e-02,  3.7005e-02,  2.6805e-02, -4.8211e-02,  2.0007e-02,\n",
      "          -3.7759e-02, -5.9281e-02,  2.5213e-02,  2.1711e-04, -1.8524e-02,\n",
      "          -4.4987e-02,  2.9940e-02, -2.1676e-02,  5.6322e-02,  3.8246e-02,\n",
      "           5.4314e-02,  3.5558e-02, -3.5103e-03, -4.3267e-03, -8.3244e-02,\n",
      "           4.0747e-02, -3.4511e-02, -6.0334e-02,  3.3158e-02, -5.2675e-02,\n",
      "           1.3708e-02,  5.8869e-02,  2.1112e-02]]], grad_fn=<StackBackward0>), tensor([[[ 2.4145e-01,  9.4291e-04,  6.1038e-02, -1.5387e-01,  1.0838e-01,\n",
      "          -9.1525e-02, -1.1832e-01,  1.5238e-01, -8.0308e-03, -7.1690e-02,\n",
      "          -1.5718e-01,  1.2691e-01, -5.1523e-02,  1.6826e-01, -1.2290e-01,\n",
      "          -2.1728e-01,  7.9967e-05,  1.4001e-01,  7.6196e-02, -1.6586e-02,\n",
      "          -7.3809e-02,  1.1138e-01,  1.0655e-01,  1.1083e-01, -1.7587e-01,\n",
      "           9.8429e-03,  1.6878e-01, -7.4704e-02, -1.6362e-01,  6.4957e-02,\n",
      "           8.6391e-02,  1.4450e-01,  1.0310e-01, -1.8632e-02,  7.9944e-02,\n",
      "          -5.7905e-02, -1.4545e-01,  7.1170e-02,  7.4027e-02,  4.7603e-02,\n",
      "          -4.2178e-02, -6.7923e-02,  8.2054e-02,  1.2941e-01,  1.0829e-02,\n",
      "           1.0307e-01, -3.5899e-02,  9.2380e-02, -7.4226e-02, -7.8153e-02,\n",
      "           1.9394e-01,  1.4785e-02, -2.6032e-02,  6.2448e-02, -9.4313e-02,\n",
      "          -3.7358e-02,  4.9946e-02,  8.2290e-02,  1.5074e-01, -1.8484e-01,\n",
      "           8.9762e-02,  7.4094e-02,  2.7618e-02,  2.8581e-01,  2.6376e-03,\n",
      "          -1.2540e-01,  1.1356e-01,  1.2149e-01,  2.0926e-01,  6.2464e-02,\n",
      "           6.9162e-02,  2.5580e-02, -8.9258e-05,  7.5724e-02,  3.1527e-02,\n",
      "           6.7042e-03, -5.0766e-02,  2.6218e-02, -4.7683e-02,  1.0857e-01,\n",
      "          -2.8034e-02,  1.5536e-02, -6.5689e-02, -1.0042e-01, -1.7086e-01,\n",
      "           1.5473e-01,  9.8188e-03,  2.5380e-02,  1.0588e-01,  6.8934e-02,\n",
      "           7.2896e-02,  1.4955e-01,  5.7929e-02, -5.2951e-02, -5.7266e-02,\n",
      "           4.1192e-02,  6.6713e-02,  6.9333e-02,  2.5351e-02, -1.2180e-01,\n",
      "          -5.6119e-02,  7.8128e-02,  5.3596e-02, -8.6238e-02,  3.8304e-02,\n",
      "          -7.7802e-02, -1.1723e-01,  5.3834e-02,  4.8798e-04, -3.7957e-02,\n",
      "          -7.9853e-02,  6.3533e-02, -4.4052e-02,  1.1110e-01,  8.4962e-02,\n",
      "           1.1486e-01,  6.9329e-02, -6.9402e-03, -7.5484e-03, -1.5773e-01,\n",
      "           8.5199e-02, -6.9194e-02, -1.1517e-01,  6.6768e-02, -1.0739e-01,\n",
      "           3.1290e-02,  1.2133e-01,  4.0761e-02]]], grad_fn=<StackBackward0>))\n"
     ]
    }
   ],
   "source": [
    "inputs1 = sentence2index(s1)\n",
    "emb1 = embeds(inputs1)\n",
    "lstm_inputs1 = emb1.view(len(inputs1), 1, -1)\n",
    "out1, out2 = lstm(lstm_inputs1)\n",
    "print(out1)\n",
    "print(out2)"
   ]
  },
  {
   "cell_type": "code",
   "execution_count": 11,
   "metadata": {},
   "outputs": [],
   "source": [
    "# nn.Moduleを継承して新しいクラスを作る。決まり文句\n",
    "class LSTMClassifier(nn.Module):\n",
    "    # モデルで使う各ネットワークをコンストラクタで定義\n",
    "    def __init__(self, embedding_dim, hidden_dim, vocab_size, tagset_size):\n",
    "        # 親クラスのコンストラクタ。決まり文句\n",
    "        super(LSTMClassifier, self).__init__()\n",
    "        # 隠れ層の次元数。これは好きな値に設定しても行列計算の過程で出力には出てこないので。\n",
    "        self.hidden_dim = hidden_dim\n",
    "        # インプットの単語をベクトル化するために使う\n",
    "        self.word_embeddings = nn.Embedding(vocab_size, embedding_dim)\n",
    "        # LSTMの隠れ層。これ１つでOK。超便利。\n",
    "        self.lstm = nn.LSTM(embedding_dim, hidden_dim)\n",
    "        # LSTMの出力を受け取って全結合してsoftmaxに食わせるための１層のネットワーク\n",
    "        self.hidden2tag = nn.Linear(hidden_dim, tagset_size)\n",
    "        # softmaxのLog版。dim=0で列、dim=1で行方向を確率変換。\n",
    "        self.softmax = nn.LogSoftmax(dim=1)\n",
    "\n",
    "    # 順伝播処理はforward関数に記載\n",
    "    def forward(self, sentence):\n",
    "        # 文章内の各単語をベクトル化して出力。2次元のテンソル\n",
    "        embeds = self.word_embeddings(sentence)\n",
    "        # 2次元テンソルをLSTMに食わせられる様にviewで３次元テンソルにした上でLSTMへ流す。\n",
    "        # 上記で説明した様にmany to oneのタスクを解きたいので、第二戻り値だけ使う。\n",
    "        _, lstm_out = self.lstm(embeds.view(len(sentence), 1, -1))\n",
    "        # lstm_out[0]は３次元テンソルになってしまっているので2次元に調整して全結合。\n",
    "        tag_space = self.hidden2tag(lstm_out[0].view(-1, self.hidden_dim))\n",
    "        # softmaxに食わせて、確率として表現\n",
    "        tag_scores = self.softmax(tag_space)\n",
    "        return tag_scores"
   ]
  },
  {
   "cell_type": "markdown",
   "metadata": {},
   "source": [
    "#### 正解ラベルの変換"
   ]
  },
  {
   "cell_type": "code",
   "execution_count": 12,
   "metadata": {},
   "outputs": [
    {
     "name": "stdout",
     "output_type": "stream",
     "text": [
      "{'dokujo-tsushin': 0, 'it-life-hack': 1, 'kaden-channel': 2, 'livedoor-homme': 3, 'movie-enter': 4, 'peachy': 5, 'smax': 6, 'sports-watch': 7, 'topic-news': 8}\n",
      "tensor([1])\n"
     ]
    }
   ],
   "source": [
    "category2index = {}\n",
    "for cat in categories:\n",
    "    if cat in category2index:\n",
    "        continue\n",
    "    category2index[cat] = len(category2index)\n",
    "print(category2index)\n",
    "\n",
    "\n",
    "def category2tensor(cat):\n",
    "    return torch.tensor([category2index[cat]], dtype=torch.long)\n",
    "\n",
    "\n",
    "print(category2tensor(\"it-life-hack\"))"
   ]
  },
  {
   "cell_type": "markdown",
   "metadata": {},
   "source": [
    "#### 学習"
   ]
  },
  {
   "cell_type": "code",
   "execution_count": 13,
   "metadata": {},
   "outputs": [
    {
     "name": "stdout",
     "output_type": "stream",
     "text": [
      "epoch 0 \t loss 10927.646444737911\n",
      "epoch 1 \t loss 10020.675048947334\n",
      "epoch 2 \t loss 9456.020045340061\n",
      "epoch 3 \t loss 8970.832570170984\n",
      "epoch 4 \t loss 8431.61981849838\n",
      "epoch 5 \t loss 7906.497477673693\n",
      "epoch 6 \t loss 7426.976272659202\n",
      "epoch 7 \t loss 6985.692273202003\n",
      "epoch 8 \t loss 6570.234288050502\n",
      "epoch 9 \t loss 6175.362874631945\n",
      "done.\n"
     ]
    }
   ],
   "source": [
    "from sklearn.model_selection import train_test_split\n",
    "import torch.optim as optim\n",
    "\n",
    "# 元データを7:3に分ける（7->学習、3->テスト）\n",
    "traindata, testdata = train_test_split(datasets, train_size=0.7)\n",
    "\n",
    "# 単語のベクトル次元数\n",
    "EMBEDDING_DIM = 10\n",
    "# 隠れ層の次元数\n",
    "HIDDEN_DIM = 128\n",
    "# データ全体の単語数\n",
    "VOCAB_SIZE = len(word2index)\n",
    "# 分類先のカテゴリの数\n",
    "TAG_SIZE = len(categories)\n",
    "# モデル宣言\n",
    "model = LSTMClassifier(EMBEDDING_DIM, HIDDEN_DIM, VOCAB_SIZE, TAG_SIZE)\n",
    "# 損失関数はNLLLoss()を使う。LogSoftmaxを使う時はこれを使うらしい。\n",
    "loss_function = nn.NLLLoss()\n",
    "# 最適化の手法はSGDで。lossの減りに時間かかるけど、一旦はこれを使う。\n",
    "optimizer = optim.SGD(model.parameters(), lr=0.01)\n",
    "\n",
    "# 各エポックの合計loss値を格納する\n",
    "losses = []\n",
    "# 10ループ回してみる。（バッチ化とかGPU使ってないので結構時間かかる...）\n",
    "for epoch in range(10):\n",
    "    all_loss = 0\n",
    "    for title, cat in zip(traindata[\"title\"], traindata[\"category\"]):\n",
    "        # モデルが持ってる勾配の情報をリセット\n",
    "        model.zero_grad()\n",
    "        # 文章を単語IDの系列に変換（modelに食わせられる形に変換）\n",
    "        inputs = sentence2index(title)\n",
    "        # 順伝播の結果を受け取る\n",
    "        out = model(inputs)\n",
    "        # 正解カテゴリをテンソル化\n",
    "        answer = category2tensor(cat)\n",
    "        # 正解とのlossを計算\n",
    "        loss = loss_function(out, answer)\n",
    "        # 勾配をセット\n",
    "        loss.backward()\n",
    "        # 逆伝播でパラメータ更新\n",
    "        optimizer.step()\n",
    "        # lossを集計\n",
    "        all_loss += loss.item()\n",
    "    losses.append(all_loss)\n",
    "    print(\"epoch\", epoch, \"\\t\", \"loss\", all_loss)\n",
    "print(\"done.\")"
   ]
  },
  {
   "cell_type": "code",
   "execution_count": 14,
   "metadata": {},
   "outputs": [
    {
     "data": {
      "text/plain": [
       "[<matplotlib.lines.Line2D at 0x7fc3eb785a00>]"
      ]
     },
     "execution_count": 14,
     "metadata": {},
     "output_type": "execute_result"
    },
    {
     "data": {
      "image/png": "[encoded data removed]",
      "text/plain": [
       "<Figure size 432x288 with 1 Axes>"
      ]
     },
     "metadata": {
      "needs_background": "light"
     },
     "output_type": "display_data"
    }
   ],
   "source": [
    "import matplotlib.pyplot as plt\n",
    "\n",
    "%matplotlib inline\n",
    "plt.plot(losses)"
   ]
  },
  {
   "cell_type": "markdown",
   "metadata": {},
   "source": [
    "#### 予測精度確認"
   ]
  },
  {
   "cell_type": "code",
   "execution_count": 15,
   "metadata": {},
   "outputs": [
    {
     "name": "stdout",
     "output_type": "stream",
     "text": [
      "predict :  0.5743334839584274\n"
     ]
    }
   ],
   "source": [
    "# テストデータの母数計算\n",
    "test_num = len(testdata)\n",
    "# 正解の件数\n",
    "a = 0\n",
    "# 勾配自動計算OFF\n",
    "with torch.no_grad():\n",
    "    for title, category in zip(testdata[\"title\"], testdata[\"category\"]):\n",
    "        # テストデータの予測\n",
    "        inputs = sentence2index(title)\n",
    "        out = model(inputs)\n",
    "\n",
    "        # outの一番大きい要素を予測結果をする\n",
    "        _, predict = torch.max(out, 1)\n",
    "\n",
    "        answer = category2tensor(category)\n",
    "        if predict == answer:\n",
    "            a += 1\n",
    "print(\"predict : \", a / test_num)"
   ]
  },
  {
   "cell_type": "markdown",
   "metadata": {},
   "source": [
    "#### 過学習の確認"
   ]
  },
  {
   "cell_type": "code",
   "execution_count": 16,
   "metadata": {},
   "outputs": [
    {
     "name": "stdout",
     "output_type": "stream",
     "text": [
      "predict :  0.621537865582026\n"
     ]
    }
   ],
   "source": [
    "traindata_num = len(traindata)\n",
    "a = 0\n",
    "with torch.no_grad():\n",
    "    for title, category in zip(traindata[\"title\"], traindata[\"category\"]):\n",
    "        inputs = sentence2index(title)\n",
    "        out = model(inputs)\n",
    "        _, predict = torch.max(out, 1)\n",
    "        answer = category2tensor(category)\n",
    "        if predict == answer:\n",
    "            a += 1\n",
    "print(\"predict : \", a / traindata_num)"
   ]
  },
  {
   "cell_type": "markdown",
   "metadata": {},
   "source": [
    "#### Fスコアの確認"
   ]
  },
  {
   "cell_type": "code",
   "execution_count": 17,
   "metadata": {},
   "outputs": [
    {
     "name": "stdout",
     "output_type": "stream",
     "text": [
      "         category  all  precison  recall  fscore\n",
      "0  dokujo-tsushin  242      0.49    0.64    0.55\n",
      "1    it-life-hack  291      0.65    0.64    0.65\n",
      "2   kaden-channel  245      0.90    0.74    0.81\n",
      "3  livedoor-homme  157      0.59    0.48    0.53\n",
      "4     movie-enter  267      0.41    0.40    0.41\n",
      "5          peachy  244      0.50    0.46    0.48\n",
      "6            smax  263      0.71    0.86    0.78\n",
      "7    sports-watch  270      0.44    0.41    0.43\n",
      "8      topic-news  234      0.52    0.49    0.50\n"
     ]
    }
   ],
   "source": [
    "import collections\n",
    "\n",
    "# IDをカテゴリに戻す用\n",
    "index2category = {}\n",
    "for cat, idx in category2index.items():\n",
    "    index2category[idx] = cat\n",
    "\n",
    "# answer -> 正解ラベル、predict->LSTMの予測結果、exact->正解してたらO,間違っていたらX\n",
    "predict_df = pd.DataFrame(columns=[\"answer\", \"predict\", \"exact\"])\n",
    "\n",
    "# 予測して結果を上のDFに格納\n",
    "with torch.no_grad():\n",
    "    for title, category in zip(testdata[\"title\"], testdata[\"category\"]):\n",
    "        out = model(sentence2index(title))\n",
    "        _, predict = torch.max(out, 1)\n",
    "        answer = category2tensor(category)\n",
    "        exact = \"O\" if predict.item() == answer.item() else \"X\"\n",
    "        s = pd.Series([answer.item(), predict.item(), exact], index=predict_df.columns)\n",
    "        predict_df = predict_df.append(s, ignore_index=True)\n",
    "\n",
    "# Fスコア格納用のDF\n",
    "fscore_df = pd.DataFrame(columns=[\"category\", \"all\", \"precison\", \"recall\", \"fscore\"])\n",
    "\n",
    "# 分類器が答えた各カテゴリの件数\n",
    "prediction_count = collections.Counter(predict_df[\"predict\"])\n",
    "# 各カテゴリの総件数\n",
    "answer_count = collections.Counter(predict_df[\"answer\"])\n",
    "\n",
    "# Fスコア求める\n",
    "for i in range(9):\n",
    "    all_count = answer_count[i]\n",
    "    precision = (\n",
    "        len(predict_df.query(\"predict == \" + str(i) + ' and exact == \"O\"'))\n",
    "        / prediction_count[i]\n",
    "    )\n",
    "    recall = (\n",
    "        len(predict_df.query(\"answer == \" + str(i) + ' and exact == \"O\"')) / all_count\n",
    "    )\n",
    "    fscore = 2 * precision * recall / (precision + recall)\n",
    "    s = pd.Series(\n",
    "        [\n",
    "            index2category[i],\n",
    "            all_count,\n",
    "            round(precision, 2),\n",
    "            round(recall, 2),\n",
    "            round(fscore, 2),\n",
    "        ],\n",
    "        index=fscore_df.columns,\n",
    "    )\n",
    "    fscore_df = fscore_df.append(s, ignore_index=True)\n",
    "print(fscore_df)"
   ]
  },
  {
   "cell_type": "code",
   "execution_count": null,
   "metadata": {},
   "outputs": [],
   "source": []
  }
 ],
 "metadata": {
  "kernelspec": {
   "display_name": "Python 3 (ipykernel)",
   "language": "python",
   "name": "python3"
  },
  "language_info": {
   "codemirror_mode": {
    "name": "ipython",
    "version": 3
   },
   "file_extension": ".py",
   "mimetype": "text/x-python",
   "name": "python",
   "nbconvert_exporter": "python",
   "pygments_lexer": "ipython3",
   "version": "3.9.9"
  }
 },
 "nbformat": 4,
 "nbformat_minor": 4
}
