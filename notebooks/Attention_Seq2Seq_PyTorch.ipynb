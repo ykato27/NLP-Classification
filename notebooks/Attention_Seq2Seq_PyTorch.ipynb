{
 "cells": [
  {
   "cell_type": "markdown",
   "metadata": {},
   "source": [
    "## PyTorchでAttention Seq2Seqを実装"
   ]
  },
  {
   "cell_type": "markdown",
   "metadata": {},
   "source": [
    "#### Attentionの仕組み\n",
    "#### Seq2Seqの課題\n",
    "Seq2SeqはEncoderがインプットの系列の長さによらず、固定長ベクトルに変換してしまうので、長い系列などは特徴が捉えきれない、という課題があります。\n",
    "Attentionは、この課題を解決すべく、Encoder側のインプットの系列の長さを考慮できる仕組みを用意します。\n",
    "\n",
    "Attentionの説明\n",
    "\n",
    "1. Encoder側の各隠れ層の値をすべてDecoder側の各層に渡す\n",
    "2. Decoder側の各層において、Encoder側から渡された各隠れ層のベクトルのうち、最も注意すべきベクトルを選び出して特徴に加える\n",
    "\n",
    "という操作をします。\n",
    "1.において、Encoder側の隠れ層ベクトルの数は、Encoder側のインプットとなる系列の長さに依存するので、系列の長さを考慮した形になっている\n",
    "2.において、選び出すという操作は微分できないが、各要素のどこに注意すべきかをsoftmaxsoftmaxで確率的に重み付けした形で選ぶ操作を行います。\n",
    "\n"
   ]
  },
  {
   "cell_type": "code",
   "execution_count": 1,
   "metadata": {},
   "outputs": [],
   "source": [
    "%load_ext lab_black"
   ]
  },
  {
   "cell_type": "code",
   "execution_count": 2,
   "metadata": {},
   "outputs": [],
   "source": [
    "from sklearn.model_selection import train_test_split\n",
    "import random\n",
    "from sklearn.utils import shuffle\n",
    "\n",
    "# date.txtのパス\n",
    "file_path = \"../data/date.txt\"\n",
    "\n",
    "input_date = []  # 変換前の日付データ\n",
    "output_date = []  # 変換後の日付データ\n",
    "\n",
    "# date.txtを1行ずつ読み込んで変換前と変換後に分割して、inputとoutputで分ける\n",
    "with open(file_path, \"r\") as f:\n",
    "    date_list = f.readlines()\n",
    "    for date in date_list:\n",
    "        date = date[:-1]\n",
    "        input_date.append(date.split(\"_\")[0])\n",
    "        output_date.append(\"_\" + date.split(\"_\")[1])\n",
    "\n",
    "# inputとoutputの系列の長さを取得\n",
    "# すべて長さが同じなので、0番目の要素でlenを取ってます\n",
    "input_len = len(input_date[0])  # 29\n",
    "output_len = len(output_date[0])  # 10\n",
    "\n",
    "# date.txtで登場するすべての文字にIDを割り当てる\n",
    "char2id = {}\n",
    "for input_chars, output_chars in zip(input_date, output_date):\n",
    "    for c in input_chars:\n",
    "        if not c in char2id:\n",
    "            char2id[c] = len(char2id)\n",
    "    for c in output_chars:\n",
    "        if not c in char2id:\n",
    "            char2id[c] = len(char2id)\n",
    "\n",
    "input_data = []  # ID化された変換前日付データ\n",
    "output_data = []  # ID化された変換後日付データ\n",
    "for input_chars, output_chars in zip(input_date, output_date):\n",
    "    input_data.append([char2id[c] for c in input_chars])\n",
    "    output_data.append([char2id[c] for c in output_chars])\n",
    "\n",
    "# 7:3でtrainとtestに分ける\n",
    "train_x, test_x, train_y, test_y = train_test_split(\n",
    "    input_data, output_data, train_size=0.7\n",
    ")\n",
    "\n",
    "# データをバッチ化するための関数を定義\n",
    "def train2batch(input_data, output_data, batch_size=100):\n",
    "    input_batch = []\n",
    "    output_batch = []\n",
    "    input_shuffle, output_shuffle = shuffle(input_data, output_data)\n",
    "    for i in range(0, len(input_data), batch_size):\n",
    "        input_batch.append(input_shuffle[i : i + batch_size])\n",
    "        output_batch.append(output_shuffle[i : i + batch_size])\n",
    "    return input_batch, output_batch"
   ]
  },
  {
   "cell_type": "markdown",
   "metadata": {},
   "source": [
    "#### Encoder\n",
    "- Encoder側はほとんど前回実装したseq2seqから変わりません。\n",
    "- 少しでも楽したいので、LSTMはGRUに変えてます。\n",
    "- GRUの各隠れ層の値はDecoder側でAttentionされるために使うので、GRUの第１戻り値(hshs)も受け取ってます。"
   ]
  },
  {
   "cell_type": "code",
   "execution_count": 3,
   "metadata": {},
   "outputs": [],
   "source": [
    "import torch\n",
    "import torch.nn as nn\n",
    "import torch.optim as optim\n",
    "\n",
    "# 諸々のパラメータなど\n",
    "embedding_dim = 200 # 文字の埋め込み次元数\n",
    "hidden_dim = 128 # GRUの隠れ層のサイズ\n",
    "BATCH_NUM = 100\n",
    "vocab_size = len(char2id) # 扱う文字の数。今回は１３文字\n",
    "device = torch.device(\"cuda\" if torch.cuda.is_available() else \"cpu\")\n",
    "\n",
    "# Encoderクラス\n",
    "class Encoder(nn.Module):\n",
    "    def __init__(self, vocab_size, embedding_dim, hidden_dim):\n",
    "        super(Encoder, self).__init__()\n",
    "        self.hidden_dim = hidden_dim\n",
    "        self.word_embeddings = nn.Embedding(\n",
    "            vocab_size, embedding_dim, padding_idx=char2id[\" \"]\n",
    "        )\n",
    "        self.gru = nn.GRU(embedding_dim, hidden_dim, batch_first=True)\n",
    "\n",
    "    def forward(self, sequence):\n",
    "        embedding = self.word_embeddings(sequence)\n",
    "        # hsが各系列のGRUの隠れ層のベクトル\n",
    "        # Attentionされる要素\n",
    "        hs, h = self.gru(embedding)\n",
    "        return hs, h"
   ]
  },
  {
   "cell_type": "markdown",
   "metadata": {},
   "source": [
    "#### Decoder\n",
    "- こっちもEncoder側と同様に前回と比べてLSTMをGRUに変えてます。\n",
    "- 紙とかに各層のテンソルのどの軸がなんの意味なのかを書きながら実装すると頭が整理できます。\n",
    "- 少しでも理解の助けになるためにAttention層の各テンソルのサイズも記載してみました。"
   ]
  },
  {
   "cell_type": "code",
   "execution_count": 4,
   "metadata": {},
   "outputs": [],
   "source": [
    "# Attention Decoderクラス\n",
    "class AttentionDecoder(nn.Module):\n",
    "    def __init__(self, vocab_size, embedding_dim, hidden_dim, batch_size):\n",
    "        super(AttentionDecoder, self).__init__()\n",
    "        self.hidden_dim = hidden_dim\n",
    "        self.batch_size = batch_size\n",
    "        self.word_embeddings = nn.Embedding(\n",
    "            vocab_size, embedding_dim, padding_idx=char2id[\" \"]\n",
    "        )\n",
    "        self.gru = nn.GRU(embedding_dim, hidden_dim, batch_first=True)\n",
    "        # hidden_dim*2としているのは、各系列のGRUの隠れ層とAttention層で計算したコンテキストベクトルをtorch.catでつなぎ合わせることで長さが２倍になるため\n",
    "        self.hidden2linear = nn.Linear(hidden_dim * 2, vocab_size)\n",
    "        # 列方向を確率変換したいのでdim=1\n",
    "        self.softmax = nn.Softmax(dim=1)\n",
    "\n",
    "    def forward(self, sequence, hs, h):\n",
    "        embedding = self.word_embeddings(sequence)\n",
    "        output, state = self.gru(embedding, h)\n",
    "\n",
    "        # Attention層\n",
    "        # hs.size() = ([100, 29, 128])\n",
    "        # output.size() = ([100, 10, 128])\n",
    "\n",
    "        # bmmを使ってEncoder側の出力(hs)とDecoder側の出力(output)をbatchごとまとめて行列計算するために、Decoder側のoutputをbatchを固定して転置行列を取る\n",
    "        t_output = torch.transpose(output, 1, 2)  # t_output.size() = ([100, 128, 10])\n",
    "\n",
    "        # bmmでバッチも考慮してまとめて行列計算\n",
    "        s = torch.bmm(hs, t_output)  # s.size() = ([100, 29, 10])\n",
    "\n",
    "        # 列方向(dim=1)でsoftmaxをとって確率表現に変換\n",
    "        # この値を後のAttentionの可視化などにも使うため、returnで返しておく\n",
    "        attention_weight = self.softmax(s)  # attention_weight.size() = ([100, 29, 10])\n",
    "\n",
    "        # コンテキストベクトルをまとめるために入れ物を用意\n",
    "        c = torch.zeros(\n",
    "            self.batch_size, 1, self.hidden_dim, device=device\n",
    "        )  # c.size() = ([100, 1, 128])\n",
    "\n",
    "        # 各DecoderのGRU層に対するコンテキストベクトルをまとめて計算する方法がわからなかったので、\n",
    "        # 各層（Decoder側のGRU層は生成文字列が10文字なので10個ある）におけるattention weightを取り出してforループ内でコンテキストベクトルを１つずつ作成する\n",
    "        # バッチ方向はまとめて計算できたのでバッチはそのまま\n",
    "        for i in range(attention_weight.size()[2]):  # 10回ループ\n",
    "\n",
    "            # attention_weight[:,:,i].size() = ([100, 29])\n",
    "            # i番目のGRU層に対するattention weightを取り出すが、テンソルのサイズをhsと揃えるためにunsqueezeする\n",
    "            unsq_weight = attention_weight[:, :, i].unsqueeze(\n",
    "                2\n",
    "            )  # unsq_weight.size() = ([100, 29, 1])\n",
    "\n",
    "            # hsの各ベクトルをattention weightで重み付けする\n",
    "            weighted_hs = hs * unsq_weight  # weighted_hs.size() = ([100, 29, 128])\n",
    "\n",
    "            # attention weightで重み付けされた各hsのベクトルをすべて足し合わせてコンテキストベクトルを作成\n",
    "            weight_sum = torch.sum(weighted_hs, axis=1).unsqueeze(\n",
    "                1\n",
    "            )  # weight_sum.size() = ([100, 1, 128])\n",
    "\n",
    "            c = torch.cat([c, weight_sum], dim=1)  # c.size() = ([100, i, 128])\n",
    "\n",
    "        # 箱として用意したzero要素が残っているのでスライスして削除\n",
    "        c = c[:, 1:, :]\n",
    "\n",
    "        output = torch.cat([output, c], dim=2)  # output.size() = ([100, 10, 256])\n",
    "        output = self.hidden2linear(output)\n",
    "        return output, state, attention_weight"
   ]
  },
  {
   "cell_type": "markdown",
   "metadata": {},
   "source": [
    "#### モデル宣言、損失関数、最適化"
   ]
  },
  {
   "cell_type": "code",
   "execution_count": 5,
   "metadata": {},
   "outputs": [],
   "source": [
    "encoder = Encoder(vocab_size, embedding_dim, hidden_dim).to(device)\n",
    "attn_decoder = AttentionDecoder(vocab_size, embedding_dim, hidden_dim, BATCH_NUM).to(\n",
    "    device\n",
    ")\n",
    "\n",
    "# 損失関数\n",
    "criterion = nn.CrossEntropyLoss()\n",
    "\n",
    "# 最適化\n",
    "encoder_optimizer = optim.Adam(encoder.parameters(), lr=0.001)\n",
    "attn_decoder_optimizer = optim.Adam(attn_decoder.parameters(), lr=0.001)"
   ]
  },
  {
   "cell_type": "markdown",
   "metadata": {},
   "source": [
    "#### 学習\n",
    "- Encoderのアウトプットであるhshsを忘れずにAttention Decoderに渡せばOK\n",
    "- EncoderもDecoderもインプットとアウトプットに変更がないので、ほとんど前回のSeq2Seqのときと同じでOK\n",
    "- ものすごい勢いでlossが減っていきます\n",
    "- 以下ではlossの下限を0.1に設定してますが、16epoch目にしてもう到達してしまいます。"
   ]
  },
  {
   "cell_type": "code",
   "execution_count": 6,
   "metadata": {},
   "outputs": [
    {
     "name": "stdout",
     "output_type": "stream",
     "text": [
      "training ...\n",
      "Epoch 1: 1549.10\n",
      "Epoch 2: 114.71\n",
      "Epoch 3: 99.11\n",
      "Epoch 4: 87.67\n",
      "Epoch 5: 87.27\n",
      "Epoch 6: 84.87\n",
      "Epoch 7: 79.72\n",
      "Epoch 8: 75.13\n",
      "Epoch 9: 74.12\n",
      "Epoch 10: 73.62\n",
      "Epoch 11: 73.67\n",
      "Epoch 12: 73.22\n",
      "Epoch 13: 73.25\n",
      "Epoch 14: 81.38\n",
      "Epoch 15: 77.23\n",
      "Epoch 16: 74.11\n",
      "Epoch 17: 73.36\n",
      "Epoch 18: 73.32\n",
      "Epoch 19: 72.85\n",
      "Epoch 20: 72.77\n",
      "Epoch 21: 72.62\n",
      "Epoch 22: 72.70\n",
      "Epoch 23: 77.16\n",
      "Epoch 24: 73.12\n",
      "Epoch 25: 72.58\n",
      "Epoch 26: 74.30\n",
      "Epoch 27: 72.88\n",
      "Epoch 28: 72.47\n",
      "Epoch 29: 72.55\n",
      "Epoch 30: 72.11\n",
      "Epoch 31: 72.06\n",
      "Epoch 32: 76.71\n",
      "Epoch 33: 61.83\n",
      "Epoch 34: 10.03\n",
      "Epoch 35: 1.31\n",
      "Epoch 36: 4.17\n",
      "Epoch 37: 1.19\n",
      "Epoch 38: 0.33\n",
      "Epoch 39: 0.19\n",
      "Epoch 40: 0.12\n",
      "Done\n"
     ]
    }
   ],
   "source": [
    "BATCH_NUM = 100\n",
    "EPOCH_NUM = 40\n",
    "\n",
    "all_losses = []\n",
    "print(\"training ...\")\n",
    "for epoch in range(1, EPOCH_NUM + 1):\n",
    "    epoch_loss = 0\n",
    "    # データをミニバッチに分ける\n",
    "    input_batch, output_batch = train2batch(train_x, train_y, batch_size=BATCH_NUM)\n",
    "    for i in range(len(input_batch)):\n",
    "\n",
    "        # 勾配の初期化\n",
    "        encoder_optimizer.zero_grad()\n",
    "        attn_decoder_optimizer.zero_grad()\n",
    "\n",
    "        # データをテンソルに変換\n",
    "        input_tensor = torch.tensor(input_batch[i], device=device)\n",
    "        output_tensor = torch.tensor(output_batch[i], device=device)\n",
    "\n",
    "        # Encoderの順伝搬\n",
    "        hs, h = encoder(input_tensor)\n",
    "\n",
    "        # Attention Decoderのインプット\n",
    "        source = output_tensor[:, :-1]\n",
    "\n",
    "        # Attention Decoderの正解データ\n",
    "        target = output_tensor[:, 1:]\n",
    "\n",
    "        loss = 0\n",
    "        decoder_output, _, attention_weight = attn_decoder(source, hs, h)\n",
    "        for j in range(decoder_output.size()[1]):\n",
    "            loss += criterion(decoder_output[:, j, :], target[:, j])\n",
    "\n",
    "        epoch_loss += loss.item()\n",
    "\n",
    "        # 誤差逆伝播\n",
    "        loss.backward()\n",
    "\n",
    "        # パラメータ更新\n",
    "        encoder_optimizer.step()\n",
    "        attn_decoder_optimizer.step()\n",
    "\n",
    "    # 損失を表示\n",
    "    print(\"Epoch %d: %.2f\" % (epoch, epoch_loss))\n",
    "    all_losses.append(epoch_loss)\n",
    "    if epoch_loss < 0.1:\n",
    "        break\n",
    "print(\"Done\")"
   ]
  },
  {
   "cell_type": "markdown",
   "metadata": {},
   "source": [
    "#### 損失可視化"
   ]
  },
  {
   "cell_type": "code",
   "execution_count": 7,
   "metadata": {},
   "outputs": [
    {
     "data": {
      "text/plain": [
       "[<matplotlib.lines.Line2D at 0x7f5b6001e0a0>]"
      ]
     },
     "execution_count": 7,
     "metadata": {},
     "output_type": "execute_result"
    },
    {
     "data": {
      "image/png": "[encoded data removed]",
      "text/plain": [
       "<Figure size 432x288 with 1 Axes>"
      ]
     },
     "metadata": {
      "needs_background": "light"
     },
     "output_type": "display_data"
    }
   ],
   "source": [
    "import matplotlib.pyplot as plt\n",
    "\n",
    "%matplotlib inline\n",
    "plt.plot(all_losses)"
   ]
  },
  {
   "cell_type": "markdown",
   "metadata": {},
   "source": [
    "#### 予測"
   ]
  },
  {
   "cell_type": "code",
   "execution_count": 8,
   "metadata": {},
   "outputs": [
    {
     "data": {
      "text/html": [
       "<div>\n",
       "<style scoped>\n",
       "    .dataframe tbody tr th:only-of-type {\n",
       "        vertical-align: middle;\n",
       "    }\n",
       "\n",
       "    .dataframe tbody tr th {\n",
       "        vertical-align: top;\n",
       "    }\n",
       "\n",
       "    .dataframe thead th {\n",
       "        text-align: right;\n",
       "    }\n",
       "</style>\n",
       "<table border=\"1\" class=\"dataframe\">\n",
       "  <thead>\n",
       "    <tr style=\"text-align: right;\">\n",
       "      <th></th>\n",
       "      <th>input</th>\n",
       "      <th>answer</th>\n",
       "      <th>predict</th>\n",
       "      <th>judge</th>\n",
       "    </tr>\n",
       "  </thead>\n",
       "  <tbody>\n",
       "    <tr>\n",
       "      <th>0</th>\n",
       "      <td>12/23/01</td>\n",
       "      <td>2001-12-23</td>\n",
       "      <td>2001-12-23</td>\n",
       "      <td>O</td>\n",
       "    </tr>\n",
       "    <tr>\n",
       "      <th>1</th>\n",
       "      <td>SEPTEMBER 9, 2009</td>\n",
       "      <td>2009-09-09</td>\n",
       "      <td>2009-09-09</td>\n",
       "      <td>O</td>\n",
       "    </tr>\n",
       "    <tr>\n",
       "      <th>2</th>\n",
       "      <td>wednesday, july 30, 1980</td>\n",
       "      <td>1980-07-30</td>\n",
       "      <td>1980-07-30</td>\n",
       "      <td>O</td>\n",
       "    </tr>\n",
       "    <tr>\n",
       "      <th>3</th>\n",
       "      <td>Tuesday, October 17, 1978</td>\n",
       "      <td>1978-10-17</td>\n",
       "      <td>1978-10-17</td>\n",
       "      <td>O</td>\n",
       "    </tr>\n",
       "    <tr>\n",
       "      <th>4</th>\n",
       "      <td>Wednesday, June 19, 1991</td>\n",
       "      <td>1991-06-19</td>\n",
       "      <td>1991-06-19</td>\n",
       "      <td>O</td>\n",
       "    </tr>\n",
       "  </tbody>\n",
       "</table>\n",
       "</div>"
      ],
      "text/plain": [
       "                           input      answer     predict judge\n",
       "0  12/23/01                       2001-12-23  2001-12-23     O\n",
       "1  SEPTEMBER 9, 2009              2009-09-09  2009-09-09     O\n",
       "2  wednesday, july 30, 1980       1980-07-30  1980-07-30     O\n",
       "3  Tuesday, October 17, 1978      1978-10-17  1978-10-17     O\n",
       "4  Wednesday, June 19, 1991       1991-06-19  1991-06-19     O"
      ]
     },
     "execution_count": 8,
     "metadata": {},
     "output_type": "execute_result"
    }
   ],
   "source": [
    "import pandas as pd\n",
    "\n",
    "# Decoderのアウトプットのテンソルから要素が最大のインデックスを返す。つまり生成文字を意味する\n",
    "def get_max_index(decoder_output):\n",
    "    results = []\n",
    "    for h in decoder_output:\n",
    "        results.append(torch.argmax(h))\n",
    "    return torch.tensor(results, device=device).view(BATCH_NUM, 1)\n",
    "\n",
    "\n",
    "# 評価用データ\n",
    "test_input_batch, test_output_batch = train2batch(test_x, test_y)\n",
    "input_tensor = torch.tensor(test_input_batch, device=device)\n",
    "\n",
    "predicts = []\n",
    "for i in range(len(test_input_batch)):\n",
    "    with torch.no_grad():\n",
    "        hs, encoder_state = encoder(input_tensor[i])\n",
    "\n",
    "    # Decoderにはまず文字列生成開始を表す\"_\"をインプットにするので、\"_\"のtensorをバッチサイズ分作成\n",
    "    start_char_batch = [[char2id[\"_\"]] for _ in range(BATCH_NUM)]\n",
    "    decoder_input_tensor = torch.tensor(start_char_batch, device=device)\n",
    "\n",
    "    decoder_hidden = encoder_state\n",
    "    batch_tmp = torch.zeros(100, 1, dtype=torch.long, device=device)\n",
    "    for _ in range(output_len - 1):\n",
    "        decoder_output, decoder_hidden, _ = attn_decoder(\n",
    "            decoder_input_tensor, hs, decoder_hidden\n",
    "        )\n",
    "        # 予測文字を取得しつつ、そのまま次のdecoderのインプットとなる\n",
    "        decoder_input_tensor = get_max_index(decoder_output.squeeze())\n",
    "        batch_tmp = torch.cat([batch_tmp, decoder_input_tensor], dim=1)\n",
    "    predicts.append(batch_tmp[:, 1:])\n",
    "\n",
    "\n",
    "# 予測結果を見る際にIDのままだと可読性が悪いので、もとの文字列に復元するためのID→文字列に変換する辞書を定義\n",
    "id2char = {}\n",
    "for k, v in char2id.items():\n",
    "    id2char[v] = k\n",
    "\n",
    "row = []\n",
    "for i in range(len(test_input_batch)):\n",
    "    batch_input = test_input_batch[i]\n",
    "    batch_output = test_output_batch[i]\n",
    "    batch_predict = predicts[i]\n",
    "    for inp, output, predict in zip(batch_input, batch_output, batch_predict):\n",
    "        x = [id2char[idx] for idx in inp]\n",
    "        y = [id2char[idx] for idx in output[1:]]\n",
    "        p = [id2char[idx.item()] for idx in predict]\n",
    "\n",
    "    x_str = \"\".join(x)\n",
    "    y_str = \"\".join(y)\n",
    "    p_str = \"\".join(p)\n",
    "\n",
    "    judge = \"O\" if y_str == p_str else \"X\"\n",
    "    row.append([x_str, y_str, p_str, judge])\n",
    "predict_df = pd.DataFrame(row, columns=[\"input\", \"answer\", \"predict\", \"judge\"])\n",
    "predict_df.head()"
   ]
  },
  {
   "cell_type": "markdown",
   "metadata": {},
   "source": [
    "#### 正解率"
   ]
  },
  {
   "cell_type": "code",
   "execution_count": 9,
   "metadata": {},
   "outputs": [
    {
     "name": "stdout",
     "output_type": "stream",
     "text": [
      "1.0\n"
     ]
    },
    {
     "data": {
      "text/html": [
       "<div>\n",
       "<style scoped>\n",
       "    .dataframe tbody tr th:only-of-type {\n",
       "        vertical-align: middle;\n",
       "    }\n",
       "\n",
       "    .dataframe tbody tr th {\n",
       "        vertical-align: top;\n",
       "    }\n",
       "\n",
       "    .dataframe thead th {\n",
       "        text-align: right;\n",
       "    }\n",
       "</style>\n",
       "<table border=\"1\" class=\"dataframe\">\n",
       "  <thead>\n",
       "    <tr style=\"text-align: right;\">\n",
       "      <th></th>\n",
       "      <th>input</th>\n",
       "      <th>answer</th>\n",
       "      <th>predict</th>\n",
       "      <th>judge</th>\n",
       "    </tr>\n",
       "  </thead>\n",
       "  <tbody>\n",
       "  </tbody>\n",
       "</table>\n",
       "</div>"
      ],
      "text/plain": [
       "Empty DataFrame\n",
       "Columns: [input, answer, predict, judge]\n",
       "Index: []"
      ]
     },
     "execution_count": 9,
     "metadata": {},
     "output_type": "execute_result"
    }
   ],
   "source": [
    "print(len(predict_df.query('judge == \"O\"')) / len(predict_df))\n",
    "predict_df.query('judge == \"X\"').head(10)"
   ]
  },
  {
   "cell_type": "markdown",
   "metadata": {},
   "source": [
    "#### attention weight 可視化\n",
    "- Attentionの醍醐味の1つであるattention weightの可視化をしてみます。\n",
    "- attention weightを見ることで学習の確からしさを確認することができます。\n",
    "- attention weightの可視化にはよくheatmapが使われるので、seabornのheatmapで可視化してます。\n",
    "- 7:3に分けた3のほうのテストデータをバッチに分けたうちの最初のミニバッチを流しています。"
   ]
  },
  {
   "cell_type": "code",
   "execution_count": 10,
   "metadata": {},
   "outputs": [
    {
     "data": {
      "image/png": "[encoded data removed]",
      "text/plain": [
       "<Figure size 864x576 with 2 Axes>"
      ]
     },
     "metadata": {
      "needs_background": "light"
     },
     "output_type": "display_data"
    },
    {
     "data": {
      "image/png": "[encoded data removed]",
      "text/plain": [
       "<Figure size 864x576 with 2 Axes>"
      ]
     },
     "metadata": {
      "needs_background": "light"
     },
     "output_type": "display_data"
    },
    {
     "data": {
      "image/png": "[encoded data removed]",
      "text/plain": [
       "<Figure size 864x576 with 2 Axes>"
      ]
     },
     "metadata": {
      "needs_background": "light"
     },
     "output_type": "display_data"
    }
   ],
   "source": [
    "import seaborn as sns\n",
    "import pandas as pd\n",
    "\n",
    "input_batch, output_batch = train2batch(test_x, test_y, batch_size=BATCH_NUM)\n",
    "input_minibatch, output_minibatch = input_batch[0], output_batch[0]\n",
    "\n",
    "with torch.no_grad():\n",
    "    # データをテンソルに変換\n",
    "    input_tensor = torch.tensor(input_minibatch, device=device)\n",
    "    output_tensor = torch.tensor(output_minibatch, device=device)\n",
    "    hs, h = encoder(input_tensor)\n",
    "    source = output_tensor[:, :-1]\n",
    "    decoder_output, _, attention_weight = attn_decoder(source, hs, h)\n",
    "\n",
    "\n",
    "for i in range(3):\n",
    "    with torch.no_grad():\n",
    "        df = pd.DataFrame(\n",
    "            data=torch.transpose(attention_weight[i], 0, 1).cpu().numpy(),\n",
    "            columns=[id2char[idx.item()] for idx in input_tensor[i]],\n",
    "            index=[id2char[idx.item()] for idx in output_tensor[i][1:]],\n",
    "        )\n",
    "        plt.figure(figsize=(12, 8))\n",
    "        sns.heatmap(\n",
    "            df,\n",
    "            xticklabels=1,\n",
    "            yticklabels=1,\n",
    "            square=True,\n",
    "            linewidths=0.3,\n",
    "            cbar_kws=dict(use_gridspec=False, location=\"top\"),\n",
    "        )"
   ]
  },
  {
   "cell_type": "code",
   "execution_count": null,
   "metadata": {},
   "outputs": [],
   "source": []
  }
 ],
 "metadata": {
  "kernelspec": {
   "display_name": "Python 3 (ipykernel)",
   "language": "python",
   "name": "python3"
  },
  "language_info": {
   "codemirror_mode": {
    "name": "ipython",
    "version": 3
   },
   "file_extension": ".py",
   "mimetype": "text/x-python",
   "name": "python",
   "nbconvert_exporter": "python",
   "pygments_lexer": "ipython3",
   "version": "3.9.9"
  }
 },
 "nbformat": 4,
 "nbformat_minor": 4
}
